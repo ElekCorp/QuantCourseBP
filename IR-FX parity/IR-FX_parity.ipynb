{
 "cells": [
  {
   "cell_type": "markdown",
   "id": "2801e5ec",
   "metadata": {
    "slideshow": {
     "slide_type": "slide"
    }
   },
   "source": [
    "# The Price"
   ]
  },
  {
   "cell_type": "markdown",
   "id": "3428f089",
   "metadata": {
    "ExecuteTime": {
     "end_time": "2023-02-08T21:02:32.425625Z",
     "start_time": "2023-02-08T21:02:32.402602Z"
    },
    "slideshow": {
     "slide_type": "slide"
    }
   },
   "source": [
    "## What is the value of..."
   ]
  },
  {
   "cell_type": "markdown",
   "id": "11649a2e",
   "metadata": {
    "slideshow": {
     "slide_type": "fragment"
    }
   },
   "source": [
    "* 1 cheese burger"
   ]
  },
  {
   "cell_type": "markdown",
   "id": "14099469",
   "metadata": {
    "slideshow": {
     "slide_type": "fragment"
    }
   },
   "source": [
    "* 1 kg of bread"
   ]
  },
  {
   "cell_type": "markdown",
   "id": "a04339ce",
   "metadata": {
    "slideshow": {
     "slide_type": "fragment"
    }
   },
   "source": [
    "* 1 kWh of electricity"
   ]
  },
  {
   "cell_type": "markdown",
   "id": "8ee0368e",
   "metadata": {
    "slideshow": {
     "slide_type": "fragment"
    }
   },
   "source": [
    "* 1 €?"
   ]
  },
  {
   "cell_type": "markdown",
   "id": "6a422707",
   "metadata": {
    "slideshow": {
     "slide_type": "slide"
    }
   },
   "source": [
    "## Given most of the time we pay in HUF, therefore we memorize the values in forints. But there is some problem with it."
   ]
  },
  {
   "cell_type": "markdown",
   "id": "4ab2104b",
   "metadata": {
    "slideshow": {
     "slide_type": "subslide"
    }
   },
   "source": [
    "<img src=\"files/Quarantine_in _the_grand_hotel_old.png\" width=\"400\" />"
   ]
  },
  {
   "cell_type": "markdown",
   "id": "001fccbc",
   "metadata": {
    "ExecuteTime": {
     "end_time": "2023-02-08T21:57:39.907907Z",
     "start_time": "2023-02-08T21:57:39.889906Z"
    },
    "slideshow": {
     "slide_type": "subslide"
    }
   },
   "source": [
    "<img src=\"files/Quarantine_in _the_grand_hotel_new.png\" width=\"400\" />"
   ]
  },
  {
   "cell_type": "markdown",
   "id": "0b94caad",
   "metadata": {
    "ExecuteTime": {
     "end_time": "2023-02-08T21:03:30.532908Z",
     "start_time": "2023-02-08T21:03:30.517912Z"
    },
    "slideshow": {
     "slide_type": "subslide"
    }
   },
   "source": [
    "The value of 1 unit of anything (including any currency) is changing over time."
   ]
  },
  {
   "cell_type": "markdown",
   "id": "c95ef420",
   "metadata": {
    "slideshow": {
     "slide_type": "subslide"
    }
   },
   "source": [
    "Abstract: Even 100 HUF in any different time has different value, than 100 HUF in the present"
   ]
  },
  {
   "cell_type": "markdown",
   "id": "120574ca",
   "metadata": {
    "slideshow": {
     "slide_type": "subslide"
    }
   },
   "source": [
    "Simplified: Would you prefer 100 HUF now or one year from now?"
   ]
  },
  {
   "cell_type": "markdown",
   "id": "b4b5a8aa",
   "metadata": {
    "slideshow": {
     "slide_type": "slide"
    }
   },
   "source": [
    "## What is the today's fair price (x) of 100 HUF in one year?"
   ]
  },
  {
   "cell_type": "markdown",
   "id": "bfda7a2b",
   "metadata": {
    "slideshow": {
     "slide_type": "fragment"
    }
   },
   "source": [
    "* We surley will get the 100 HUF at one year from now"
   ]
  },
  {
   "cell_type": "markdown",
   "id": "31c9d131",
   "metadata": {
    "slideshow": {
     "slide_type": "fragment"
    }
   },
   "source": [
    "* Fair price: where we are comfortable to take any side of the deal."
   ]
  },
  {
   "cell_type": "markdown",
   "id": "231d9e34",
   "metadata": {
    "slideshow": {
     "slide_type": "subslide"
    }
   },
   "source": [
    "Ideas:\n",
    "* We should have comperable return like in any similar investment.\n",
    "* What would be a similar investment?\n",
    "    * We are investing risk free: We know how much we will get and we will get it surley."
   ]
  },
  {
   "cell_type": "markdown",
   "id": "5359cfd9",
   "metadata": {
    "slideshow": {
     "slide_type": "subslide"
    }
   },
   "source": [
    "Solution:\n",
    "\n",
    "This transaction is similar to investing in a bank-account for one side or taking loan for the other. Therefore the HUF interest rate should give guidence here, which is currently (2023, Jan): 13% "
   ]
  },
  {
   "cell_type": "code",
   "execution_count": 19,
   "id": "5ef2aab9",
   "metadata": {
    "ExecuteTime": {
     "end_time": "2023-02-08T22:39:05.824995Z",
     "start_time": "2023-02-08T22:39:05.805973Z"
    },
    "slideshow": {
     "slide_type": "subslide"
    }
   },
   "outputs": [
    {
     "name": "stdout",
     "output_type": "stream",
     "text": [
      "88.5\n"
     ]
    }
   ],
   "source": [
    "x = 100/1.13\n",
    "print(round(x,2))"
   ]
  },
  {
   "cell_type": "markdown",
   "id": "fcb06197",
   "metadata": {
    "slideshow": {
     "slide_type": "slide"
    }
   },
   "source": [
    "## Which one is the better bond?\n",
    "\n",
    "years|  payoff of A  |  payoff of B  |\n",
    ":---:|:---:|:---:|\n",
    "0|-100|-100\n",
    "1|10|0\n",
    "2|110|121\n",
    "\n",
    "Note: We are not talking about HUF, but went unit-less"
   ]
  },
  {
   "cell_type": "markdown",
   "id": "b3db7634",
   "metadata": {
    "ExecuteTime": {
     "end_time": "2023-02-15T23:40:03.876143Z",
     "start_time": "2023-02-15T23:40:03.868302Z"
    }
   },
   "source": [
    "## Bond:\n",
    "> In finance, a bond is a type of security under which the issuer (debtor) owes the holder (creditor) a debt, and is obliged – depending on the terms – to provide cash flow to the creditor (e.g. repay the principal (i.e. amount borrowed) of the bond at the maturity date as well as interest (called the coupon) over a specified amount of time).[1] The timing and the amount of cash flow provided varies, depending on the economic value that is emphasized upon, thus giving rise to different types of bonds.[1] The interest is usually payable at fixed intervals: semiannual, annual, and less often at other periods. Thus, a bond is a form of loan or IOU. Bonds provide the borrower with external funds to finance long-term investments or, in the case of government bonds, to finance current expenditure. \n",
    "\n",
    "source: [Wikipedia](https://en.wikipedia.org/wiki/Bond_(finance))"
   ]
  },
  {
   "cell_type": "markdown",
   "id": "77d8759f",
   "metadata": {
    "slideshow": {
     "slide_type": "subslide"
    }
   },
   "source": [
    "### Can we decide now?\n",
    "\n",
    "years|  payoff of A  |  payoff of B  | payoff of C  |\n",
    "---:|---:|---:|---:|\n",
    "0|-100|-100|-100\n",
    "1|10|0|108\n",
    "2|110|121|0\n"
   ]
  },
  {
   "cell_type": "markdown",
   "id": "ed8a69e8",
   "metadata": {
    "slideshow": {
     "slide_type": "subslide"
    }
   },
   "source": [
    "#### Handwawing arguments:"
   ]
  },
  {
   "cell_type": "markdown",
   "id": "131b9b14",
   "metadata": {
    "slideshow": {
     "slide_type": "fragment"
    }
   },
   "source": [
    "* The average interest rate for 2 years is 10% yearly."
   ]
  },
  {
   "cell_type": "markdown",
   "id": "797e665f",
   "metadata": {
    "slideshow": {
     "slide_type": "fragment"
    }
   },
   "source": [
    "* Based on Bond C 8% interest is expected for the first year"
   ]
  },
  {
   "cell_type": "markdown",
   "id": "d179fbd9",
   "metadata": {
    "slideshow": {
     "slide_type": "fragment"
    }
   },
   "source": [
    "* The aboves means more than 10% interest is expected for the second year -> A is more preferable over B."
   ]
  },
  {
   "cell_type": "markdown",
   "id": "17932f0b",
   "metadata": {
    "slideshow": {
     "slide_type": "subslide"
    }
   },
   "source": [
    "### Can we create B from A and C?\n",
    "\n",
    "e.g.: Can we have the cashflow from the linear combination of A and C identical to B's cashflow?\n",
    "\n",
    "years|  payoff of A  |  payoff of B  | payoff of C  |\n",
    "---:|---:|---:|---:|\n",
    "0|-100|-100|-100\n",
    "1|10|0|108\n",
    "2|110|121|0"
   ]
  },
  {
   "cell_type": "markdown",
   "id": "35d4e700",
   "metadata": {
    "slideshow": {
     "slide_type": "fragment"
    }
   },
   "source": [
    "* To replicate the cashflow at the end of the 2nd year we need to buy $\\frac{121}{110}$ A Bond."
   ]
  },
  {
   "cell_type": "markdown",
   "id": "5891ed76",
   "metadata": {
    "slideshow": {
     "slide_type": "fragment"
    }
   },
   "source": [
    " * This creates 11 cashflow at the end of 1st year, which should be cancelled with shorted C bonds"
   ]
  },
  {
   "cell_type": "markdown",
   "id": "751da792",
   "metadata": {
    "slideshow": {
     "slide_type": "fragment"
    }
   },
   "source": [
    " * $\\frac{11}{108}$ C bond has to be shorted"
   ]
  },
  {
   "cell_type": "markdown",
   "id": "f8e1997f",
   "metadata": {
    "ExecuteTime": {
     "end_time": "2023-02-15T23:49:11.096407Z",
     "start_time": "2023-02-15T23:49:11.092227Z"
    },
    "slideshow": {
     "slide_type": "subslide"
    }
   },
   "source": [
    "$1\\cdot B$ and the portfolio of $\\left(\\frac{121}{110}\\cdot A-\\frac{11}{108}\\cdot C\\right)$ has the same future pay-offs.\n",
    "\n",
    "But, the current price of the portfolio is: $100\\cdot\\frac{121}{110}+100\\cdot\\frac{11}{108}=99.81$"
   ]
  },
  {
   "cell_type": "markdown",
   "id": "516a00e2",
   "metadata": {
    "ExecuteTime": {
     "end_time": "2023-04-16T23:49:29.403088Z",
     "start_time": "2023-04-16T23:49:29.395097Z"
    },
    "slideshow": {
     "slide_type": "subslide"
    }
   },
   "source": [
    "## Arbitrage\n",
    ">is the possibility of a risk-free profit\n",
    "source: [Wikipedia](https://en.wikipedia.org/wiki/Arbitrage)"
   ]
  },
  {
   "cell_type": "markdown",
   "id": "83a66a98",
   "metadata": {},
   "source": [
    "## Replicating portfolio\n",
    ">In mathematical finance, a replicating portfolio for a given asset or series of cash flows is a portfolio of assets with the same properties (especially cash flows).\n",
    "source: [Wikipedia](https://en.wikipedia.org/wiki/Replicating_portfolio)"
   ]
  },
  {
   "cell_type": "markdown",
   "id": "919add99",
   "metadata": {
    "ExecuteTime": {
     "end_time": "2023-04-16T23:46:31.701163Z",
     "start_time": "2023-04-16T23:46:31.686173Z"
    },
    "slideshow": {
     "slide_type": "slide"
    }
   },
   "source": [
    "## IR-FX parity\n",
    "\n",
    "__The problem__ : We would like to exchange 1 unit of currency _AAA_ for currency _BBB_, 1 year from now.\n",
    "\n",
    "__What should be the fair exchange rate, if we know the followings:__\n",
    "\n",
    "* The spot _AAABBB_ = 400 (E.g. currently 1 unit of _AAA_ is traded for 400 units of _BBB_.)\n",
    "* Currency _AAA_ offers 5% interest rate\n",
    "* Currency _BBB_ offers 10% interest rate"
   ]
  },
  {
   "cell_type": "markdown",
   "id": "dd9a6ebc",
   "metadata": {
    "slideshow": {
     "slide_type": "fragment"
    }
   },
   "source": [
    "### Try to use the idea of replicating portfolio"
   ]
  },
  {
   "cell_type": "markdown",
   "id": "a1d256fa",
   "metadata": {
    "slideshow": {
     "slide_type": "fragment"
    }
   },
   "source": [
    "* Do we have multiples options for the 1 year investment, which have identical cashflows?"
   ]
  },
  {
   "cell_type": "markdown",
   "id": "ad7a42a8",
   "metadata": {
    "slideshow": {
     "slide_type": "subslide"
    }
   },
   "source": [
    "Assume the follwoing: We have 1 _AAA_ and 1 year from now, we would like to have _BBB_."
   ]
  },
  {
   "cell_type": "markdown",
   "id": "5833f25f",
   "metadata": {
    "slideshow": {
     "slide_type": "fragment"
    }
   },
   "source": [
    "### Option A:\n",
    "\n",
    "1. Exchange all of our _AAA_ to _BBB_ on the spot FX rate. After that we will have 400 _BBB_\n",
    "1. Receive 10% interest on the 400 _BBB_ during the year, ending up with 440 _BBB_"
   ]
  },
  {
   "cell_type": "markdown",
   "id": "b0507e03",
   "metadata": {
    "slideshow": {
     "slide_type": "fragment"
    }
   },
   "source": [
    "### Option B:\n",
    "\n",
    "1. Keep our money in _AAA_ and receive 5% interest.\n",
    "1. Exchange all the 1.05 _AAA_ to _BBB_ on the to be determind $x$ forward rate, ending up with $1.05\\cdot x$ unit of _BBB_"
   ]
  },
  {
   "cell_type": "markdown",
   "id": "e22df71f",
   "metadata": {
    "slideshow": {
     "slide_type": "subslide"
    }
   },
   "source": [
    "If there is no arbitrage, we should end up with the same amount of money:\n",
    "$$ 440 = 1.05\\cdot x$$"
   ]
  },
  {
   "cell_type": "code",
   "execution_count": 7,
   "id": "028db04a",
   "metadata": {
    "ExecuteTime": {
     "end_time": "2023-04-17T00:18:19.746489Z",
     "start_time": "2023-04-17T00:18:19.731488Z"
    },
    "slideshow": {
     "slide_type": "fragment"
    }
   },
   "outputs": [
    {
     "data": {
      "text/plain": [
       "419.04761904761904"
      ]
     },
     "execution_count": 7,
     "metadata": {},
     "output_type": "execute_result"
    }
   ],
   "source": [
    "x = 440/1.05\n",
    "x"
   ]
  },
  {
   "cell_type": "markdown",
   "id": "c5558d24",
   "metadata": {
    "ExecuteTime": {
     "end_time": "2023-04-17T00:19:41.990142Z",
     "start_time": "2023-04-17T00:19:41.978140Z"
    },
    "slideshow": {
     "slide_type": "slide"
    }
   },
   "source": [
    "# Project work"
   ]
  },
  {
   "cell_type": "markdown",
   "id": "abdb3071",
   "metadata": {
    "slideshow": {
     "slide_type": "fragment"
    }
   },
   "source": [
    "In the `bonds` list there are multiple bonds represented as dictionries. The keys of the dictionries are the payment days in years from today, the values are the cashflows."
   ]
  },
  {
   "cell_type": "markdown",
   "id": "ad5156ac",
   "metadata": {
    "ExecuteTime": {
     "end_time": "2023-04-17T00:28:39.460760Z",
     "start_time": "2023-04-17T00:28:39.445759Z"
    },
    "slideshow": {
     "slide_type": "subslide"
    }
   },
   "source": [
    "Fo example the familiar A, B and C bonds:\n",
    "\n",
    "years|  payoff of A  |  payoff of B  | payoff of C  |\n",
    "---:|---:|---:|---:|\n",
    "0|-100|-100|-100\n",
    "1|10|0|108\n",
    "2|110|121|0\n",
    "\n",
    "Would be represented as the following:"
   ]
  },
  {
   "cell_type": "code",
   "execution_count": 11,
   "id": "6dd098b7",
   "metadata": {
    "ExecuteTime": {
     "end_time": "2023-04-17T00:28:39.634812Z",
     "start_time": "2023-04-17T00:28:39.616810Z"
    },
    "slideshow": {
     "slide_type": "fragment"
    }
   },
   "outputs": [
    {
     "data": {
      "text/plain": [
       "[{0: -100, 1: 10, 2: 110}, {0: -100, 2: 121}, {0: -100, 1: 108}]"
      ]
     },
     "execution_count": 11,
     "metadata": {},
     "output_type": "execute_result"
    }
   ],
   "source": [
    "bonds_example = [{ 0 : -100,\n",
    "                   1 :   10,\n",
    "                   2 :  110,},\n",
    "                 { 0 : -100,\n",
    "                   2 :  121,},\n",
    "                 { 0 : -100,\n",
    "                   1 :  108,}]\n",
    "bonds_example"
   ]
  },
  {
   "cell_type": "markdown",
   "id": "2afcc441",
   "metadata": {
    "ExecuteTime": {
     "end_time": "2023-04-17T00:29:51.880660Z",
     "start_time": "2023-04-17T00:29:51.865655Z"
    },
    "slideshow": {
     "slide_type": "fragment"
    }
   },
   "source": [
    "**Task:** Calculate the discount factors for any cashflow year from the `bonds` input"
   ]
  },
  {
   "cell_type": "markdown",
   "id": "bd2da1b1",
   "metadata": {
    "slideshow": {
     "slide_type": "subslide"
    }
   },
   "source": [
    "## Task 1:"
   ]
  },
  {
   "cell_type": "code",
   "execution_count": 33,
   "id": "a8ca4d25",
   "metadata": {
    "ExecuteTime": {
     "end_time": "2023-04-17T00:45:35.734498Z",
     "start_time": "2023-04-17T00:45:35.719320Z"
    },
    "slideshow": {
     "slide_type": "fragment"
    }
   },
   "outputs": [
    {
     "data": {
      "text/plain": [
       "[{0: -100, 1: 101.0},\n",
       " {0: -100, 1: 2.0, 2: 102.0},\n",
       " {0: -100, 1: 3.0, 2: 3.0, 3: 103.0},\n",
       " {0: -100, 1: 3.0, 2: 3.0, 3: 3.0, 4: 103.0},\n",
       " {0: -100, 1: 2.0, 2: 2.0, 3: 2.0, 4: 2.0, 5: 102.0},\n",
       " {0: -100, 1: 1.0, 2: 1.0, 3: 1.0, 4: 1.0, 5: 1.0, 6: 101.0}]"
      ]
     },
     "execution_count": 33,
     "metadata": {},
     "output_type": "execute_result"
    }
   ],
   "source": [
    "def fix_bond(years, rate):\n",
    "    bond = {0:-100}\n",
    "    for i in range(1, years):\n",
    "        bond.update({i : rate})\n",
    "    bond.update({years : 100+rate})\n",
    "    \n",
    "    return bond\n",
    "    \n",
    "    \n",
    "bonds_1 = [fix_bond(i, 3.5-abs(i-3.5)) for i in range(1,7)]\n",
    "bonds_1"
   ]
  },
  {
   "cell_type": "markdown",
   "id": "6004e354",
   "metadata": {
    "slideshow": {
     "slide_type": "subslide"
    }
   },
   "source": [
    " ## Task 2:"
   ]
  },
  {
   "cell_type": "code",
   "execution_count": 34,
   "id": "592ea195",
   "metadata": {
    "ExecuteTime": {
     "end_time": "2023-04-17T00:46:43.566928Z",
     "start_time": "2023-04-17T00:46:43.547925Z"
    },
    "slideshow": {
     "slide_type": "fragment"
    }
   },
   "outputs": [
    {
     "data": {
      "text/plain": [
       "[{0: -100, 1: 3, 2: 105}, {0: -100, 1: 5, 2: 103}]"
      ]
     },
     "execution_count": 34,
     "metadata": {},
     "output_type": "execute_result"
    }
   ],
   "source": [
    "bonds_2 = [{0:-100, 1:3, 2:105}, {0:-100, 1:5, 2:103}]\n",
    "bonds_2"
   ]
  },
  {
   "cell_type": "code",
   "execution_count": null,
   "id": "605d0826",
   "metadata": {},
   "outputs": [],
   "source": []
  }
 ],
 "metadata": {
  "celltoolbar": "Slideshow",
  "kernelspec": {
   "display_name": "Python 3 (ipykernel)",
   "language": "python",
   "name": "python3"
  },
  "language_info": {
   "codemirror_mode": {
    "name": "ipython",
    "version": 3
   },
   "file_extension": ".py",
   "mimetype": "text/x-python",
   "name": "python",
   "nbconvert_exporter": "python",
   "pygments_lexer": "ipython3",
   "version": "3.9.13"
  },
  "toc": {
   "base_numbering": 1,
   "nav_menu": {},
   "number_sections": true,
   "sideBar": true,
   "skip_h1_title": false,
   "title_cell": "Table of Contents",
   "title_sidebar": "Contents",
   "toc_cell": false,
   "toc_position": {},
   "toc_section_display": true,
   "toc_window_display": false
  }
 },
 "nbformat": 4,
 "nbformat_minor": 5
}
