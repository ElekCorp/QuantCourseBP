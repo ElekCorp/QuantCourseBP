{
 "cells": [
  {
   "cell_type": "markdown",
   "id": "2801e5ec",
   "metadata": {
    "slideshow": {
     "slide_type": "slide"
    }
   },
   "source": [
    "# The Price"
   ]
  },
  {
   "cell_type": "markdown",
   "id": "3428f089",
   "metadata": {
    "ExecuteTime": {
     "end_time": "2023-02-08T21:02:32.425625Z",
     "start_time": "2023-02-08T21:02:32.402602Z"
    },
    "slideshow": {
     "slide_type": "slide"
    }
   },
   "source": [
    "## What is the value of..."
   ]
  },
  {
   "cell_type": "markdown",
   "id": "11649a2e",
   "metadata": {
    "slideshow": {
     "slide_type": "fragment"
    }
   },
   "source": [
    "* 1 cheese burger"
   ]
  },
  {
   "cell_type": "markdown",
   "id": "14099469",
   "metadata": {
    "slideshow": {
     "slide_type": "fragment"
    }
   },
   "source": [
    "* 1 kg of bread"
   ]
  },
  {
   "cell_type": "markdown",
   "id": "a04339ce",
   "metadata": {
    "slideshow": {
     "slide_type": "fragment"
    }
   },
   "source": [
    "* 1 kWh of electricity"
   ]
  },
  {
   "cell_type": "markdown",
   "id": "8ee0368e",
   "metadata": {
    "slideshow": {
     "slide_type": "fragment"
    }
   },
   "source": [
    "* 1 €?"
   ]
  },
  {
   "cell_type": "markdown",
   "id": "6a422707",
   "metadata": {
    "heading_collapsed": true,
    "slideshow": {
     "slide_type": "slide"
    }
   },
   "source": [
    "## Given most of the time we pay in HUF, therefore we memorize the values in forints. But there is some problem with it."
   ]
  },
  {
   "cell_type": "markdown",
   "id": "4ab2104b",
   "metadata": {
    "hidden": true,
    "slideshow": {
     "slide_type": "subslide"
    }
   },
   "source": [
    "<img src=\"files/Quarantine_in _the_grand_hotel_old.png\" width=\"400\" />"
   ]
  },
  {
   "cell_type": "markdown",
   "id": "001fccbc",
   "metadata": {
    "ExecuteTime": {
     "end_time": "2023-02-08T21:57:39.907907Z",
     "start_time": "2023-02-08T21:57:39.889906Z"
    },
    "hidden": true,
    "slideshow": {
     "slide_type": "subslide"
    }
   },
   "source": [
    "<img src=\"files/Quarantine_in _the_grand_hotel_new.png\" width=\"400\" />"
   ]
  },
  {
   "cell_type": "markdown",
   "id": "0b94caad",
   "metadata": {
    "ExecuteTime": {
     "end_time": "2023-02-08T21:03:30.532908Z",
     "start_time": "2023-02-08T21:03:30.517912Z"
    },
    "hidden": true,
    "slideshow": {
     "slide_type": "subslide"
    }
   },
   "source": [
    "The value of 1 unit of anything (including any currency) is changing over time."
   ]
  },
  {
   "cell_type": "markdown",
   "id": "c95ef420",
   "metadata": {
    "hidden": true,
    "slideshow": {
     "slide_type": "subslide"
    }
   },
   "source": [
    "Abstract: Even 100 HUF in any different time has different value, than 100 HUF in the present"
   ]
  },
  {
   "cell_type": "markdown",
   "id": "120574ca",
   "metadata": {
    "hidden": true,
    "slideshow": {
     "slide_type": "subslide"
    }
   },
   "source": [
    "Simplified: Would you prefer 100 HUF now or one year from now?"
   ]
  },
  {
   "cell_type": "markdown",
   "id": "b4b5a8aa",
   "metadata": {
    "slideshow": {
     "slide_type": "slide"
    }
   },
   "source": [
    "## What is the today's fair price (x) of 100 HUF in one year?"
   ]
  },
  {
   "cell_type": "markdown",
   "id": "bfda7a2b",
   "metadata": {
    "slideshow": {
     "slide_type": "fragment"
    }
   },
   "source": [
    "* We surley will get the 100 HUF at one year from now"
   ]
  },
  {
   "cell_type": "markdown",
   "id": "31c9d131",
   "metadata": {
    "slideshow": {
     "slide_type": "fragment"
    }
   },
   "source": [
    "* Fair price: where we are comfortable to take any side of the deal."
   ]
  },
  {
   "cell_type": "markdown",
   "id": "231d9e34",
   "metadata": {
    "slideshow": {
     "slide_type": "subslide"
    }
   },
   "source": [
    "Ideas:\n",
    "* We should have comperable return like in any similar investment.\n",
    "* What would be a similar investment?\n",
    "    * We are investing risk free: We know how much we will get and we will get it surley."
   ]
  },
  {
   "cell_type": "markdown",
   "id": "5359cfd9",
   "metadata": {
    "slideshow": {
     "slide_type": "subslide"
    }
   },
   "source": [
    "Solution:\n",
    "\n",
    "This transaction is similar to investing in a bank-account for one side or taking loan for the other. Therefore the HUF interest rate should give guidence here, which is currently (2023, Jan): 13% "
   ]
  },
  {
   "cell_type": "code",
   "execution_count": 19,
   "id": "5ef2aab9",
   "metadata": {
    "ExecuteTime": {
     "end_time": "2023-02-08T22:39:05.824995Z",
     "start_time": "2023-02-08T22:39:05.805973Z"
    },
    "slideshow": {
     "slide_type": "subslide"
    }
   },
   "outputs": [
    {
     "name": "stdout",
     "output_type": "stream",
     "text": [
      "88.5\n"
     ]
    }
   ],
   "source": [
    "x = 100/1.13\n",
    "print(round(x,2))"
   ]
  },
  {
   "cell_type": "markdown",
   "id": "fcb06197",
   "metadata": {
    "slideshow": {
     "slide_type": "slide"
    }
   },
   "source": [
    "## Which one is the better investment?\n",
    "\n",
    "years|  payoff of A  |  payoff of B  |\n",
    ":---:|:---:|:---:|\n",
    "0|-100|-100\n",
    "1|10|0\n",
    "2|110|121\n",
    "\n",
    "Note: We are not talking about HUF, but went unit-less"
   ]
  },
  {
   "cell_type": "markdown",
   "id": "77d8759f",
   "metadata": {
    "slideshow": {
     "slide_type": "subslide"
    }
   },
   "source": [
    "### Can we decide now?\n",
    "\n",
    "years|  payoff of A  |  payoff of B  | payoff of C  |\n",
    "---:|---:|---:|---:|\n",
    "0|-100|-100|-100\n",
    "1|10|0|108\n",
    "2|110|121|0\n"
   ]
  }
 ],
 "metadata": {
  "celltoolbar": "Slideshow",
  "kernelspec": {
   "display_name": "Python 3 (ipykernel)",
   "language": "python",
   "name": "python3"
  },
  "language_info": {
   "codemirror_mode": {
    "name": "ipython",
    "version": 3
   },
   "file_extension": ".py",
   "mimetype": "text/x-python",
   "name": "python",
   "nbconvert_exporter": "python",
   "pygments_lexer": "ipython3",
   "version": "3.11.2"
  },
  "toc": {
   "base_numbering": 1,
   "nav_menu": {},
   "number_sections": true,
   "sideBar": true,
   "skip_h1_title": false,
   "title_cell": "Table of Contents",
   "title_sidebar": "Contents",
   "toc_cell": false,
   "toc_position": {},
   "toc_section_display": true,
   "toc_window_display": false
  }
 },
 "nbformat": 4,
 "nbformat_minor": 5
}
