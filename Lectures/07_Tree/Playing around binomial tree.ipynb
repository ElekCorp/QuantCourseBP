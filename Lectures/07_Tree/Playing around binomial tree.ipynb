{
 "cells": [
  {
   "cell_type": "code",
   "execution_count": null,
   "id": "4c26eaa4",
   "metadata": {},
   "outputs": [],
   "source": [
    "import sys, os\n",
    "sys.path.append(os.path.dirname(os.path.dirname(os.path.dirname(os.path.realpath('__file__')))))\n",
    "from src.pricer import *"
   ]
  },
  {
   "cell_type": "markdown",
   "id": "ff5afd7e",
   "metadata": {},
   "source": [
    "# European Tree"
   ]
  },
  {
   "cell_type": "code",
   "execution_count": null,
   "id": "17aad77d",
   "metadata": {},
   "outputs": [],
   "source": [
    "# Create European contract\n",
    "\n",
    "MarketData.initialize()\n",
    "und = Stock.TEST_COMPANY\n",
    "expiry = 1.0\n",
    "strike = 1.0 * MarketData.get_spot()[und]\n",
    "europeanContract = EuropeanContract(und, PutCallFwd.CALL, LongShort.LONG, strike, expiry)"
   ]
  },
  {
   "cell_type": "code",
   "execution_count": null,
   "id": "f901ad6b",
   "metadata": {},
   "outputs": [],
   "source": [
    "# Create European Tree pricer\n",
    "\n",
    "params = TreeParams(2)\n",
    "model = FlatVolModel(und)\n",
    "europeanPricer = EuropeanTreePricer(europeanContract, model, params)"
   ]
  },
  {
   "cell_type": "code",
   "execution_count": null,
   "id": "a888416e",
   "metadata": {},
   "outputs": [],
   "source": [
    "europeanPricer.calc_fair_value()"
   ]
  },
  {
   "cell_type": "code",
   "execution_count": null,
   "id": "668bc4d5",
   "metadata": {},
   "outputs": [],
   "source": [
    "# European Analytic pricer\n",
    "\n",
    "analyticPricer = EuropeanAnalyticPricer(europeanContract, model, Params())\n",
    "analyticPricer.calc_fair_value()"
   ]
  },
  {
   "cell_type": "markdown",
   "id": "c5b0e898",
   "metadata": {},
   "source": [
    "### Tree price != Analytic price, is it a bug?"
   ]
  },
  {
   "cell_type": "code",
   "execution_count": null,
   "id": "bc561b45",
   "metadata": {},
   "outputs": [],
   "source": [
    "params100 = TreeParams(100)\n",
    "europeanPricer100 = EuropeanTreePricer(europeanContract, model, params100)\n",
    "europeanPricer100.calc_fair_value()"
   ]
  },
  {
   "cell_type": "code",
   "execution_count": null,
   "id": "ba19402e",
   "metadata": {},
   "outputs": [],
   "source": [
    "# Calibrating European Tree\n",
    "\n",
    "paramsCalib = TreeParams(2,0.2)\n",
    "europeanPricerCalib = EuropeanTreePricer(europeanContract, model, paramsCalib)\n",
    "europeanPricerCalib.calc_fair_value()"
   ]
  },
  {
   "cell_type": "markdown",
   "id": "e2724cf1",
   "metadata": {},
   "source": [
    "# American Tree"
   ]
  },
  {
   "cell_type": "code",
   "execution_count": null,
   "id": "29038965",
   "metadata": {},
   "outputs": [],
   "source": [
    "# American contract and Tree pricer\n",
    "\n",
    "americanContract = AmericanContract(und, PutCallFwd.CALL, LongShort.LONG, strike, expiry)\n",
    "amPricer = AmericanTreePricer(americanContract, model, params)\n",
    "amPricer.calc_fair_value()"
   ]
  },
  {
   "cell_type": "markdown",
   "id": "034745f4",
   "metadata": {},
   "source": [
    "### American call price = European call price, is it a bug?"
   ]
  },
  {
   "cell_type": "markdown",
   "id": "0d84891a",
   "metadata": {},
   "source": [
    "# Inbalanced Tree"
   ]
  },
  {
   "cell_type": "code",
   "execution_count": null,
   "id": "e0914921",
   "metadata": {},
   "outputs": [],
   "source": [
    "# European Tree with step size specified\n",
    "\n",
    "inbalancedParams = TreeParams(2, np.nan, 1.2, 0.8)\n",
    "inbalancedEuropeanPricer = EuropeanTreePricer(europeanContract, model, inbalancedParams)\n",
    "inbalancedEuropeanPricer.calc_fair_value()"
   ]
  },
  {
   "cell_type": "code",
   "execution_count": null,
   "id": "a3026fab",
   "metadata": {},
   "outputs": [],
   "source": [
    "# American contract and Tree pricer\n",
    "\n",
    "inbalancedAmPricer = AmericanTreePricer(americanContract, model, inbalancedParams)\n",
    "inbalancedAmPricer.calc_fair_value()"
   ]
  },
  {
   "cell_type": "markdown",
   "id": "d05a5f02",
   "metadata": {},
   "source": [
    "### American call price != European call price, is it a bug?"
   ]
  },
  {
   "cell_type": "code",
   "execution_count": null,
   "id": "8f471734",
   "metadata": {},
   "outputs": [],
   "source": [
    "inbalancedAmPricer.tree_method.prob"
   ]
  },
  {
   "cell_type": "code",
   "execution_count": null,
   "id": "a23bc0b5",
   "metadata": {},
   "outputs": [],
   "source": [
    "inbalancedAmPricer.tree_method.spot_tree"
   ]
  },
  {
   "cell_type": "code",
   "execution_count": null,
   "id": "8c121d86",
   "metadata": {},
   "outputs": [],
   "source": []
  }
 ],
 "metadata": {
  "kernelspec": {
   "display_name": "Python 3 (ipykernel)",
   "language": "python",
   "name": "python3"
  },
  "language_info": {
   "codemirror_mode": {
    "name": "ipython",
    "version": 3
   },
   "file_extension": ".py",
   "mimetype": "text/x-python",
   "name": "python",
   "nbconvert_exporter": "python",
   "pygments_lexer": "ipython3",
   "version": "3.9.0"
  }
 },
 "nbformat": 4,
 "nbformat_minor": 5
}
