{
 "cells": [
  {
   "cell_type": "code",
   "execution_count": 1,
   "id": "4c26eaa4",
   "metadata": {},
   "outputs": [],
   "source": [
    "import sys, os\n",
    "sys.path.append(os.path.dirname(os.path.dirname(os.path.dirname(os.path.realpath('__file__')))))\n",
    "from src.pricer import *"
   ]
  },
  {
   "cell_type": "code",
   "execution_count": 26,
   "id": "17aad77d",
   "metadata": {},
   "outputs": [],
   "source": [
    "# Create European contract\n",
    "MarketData.initialize()\n",
    "und = Stock.TEST_COMPANY\n",
    "expiry = 1.0\n",
    "strike = 1.0 * MarketData.get_spot()[und]\n",
    "europeanContract = EuropeanContract(und, PutCallFwd.CALL, LongShort.LONG, strike, expiry)"
   ]
  },
  {
   "cell_type": "code",
   "execution_count": 27,
   "id": "a0ab0c11",
   "metadata": {},
   "outputs": [],
   "source": [
    "# Create pricer\n",
    "params = TreeParams(2)#TreeParams(2, 1.2, 0.8)\n",
    "model = FlatVolModel(und)\n",
    "pricer = EuropeanTreePricer(europeanContract, model, params)"
   ]
  },
  {
   "cell_type": "code",
   "execution_count": 28,
   "id": "bc3dfeeb",
   "metadata": {},
   "outputs": [
    {
     "data": {
      "text/plain": [
       "12.967550694010356"
      ]
     },
     "execution_count": 28,
     "metadata": {},
     "output_type": "execute_result"
    }
   ],
   "source": [
    "pv = pricer.calc_fair_value()\n",
    "pv"
   ]
  },
  {
   "cell_type": "code",
   "execution_count": 29,
   "id": "41919a6d",
   "metadata": {},
   "outputs": [
    {
     "data": {
      "text/plain": [
       "12.967550694010356"
      ]
     },
     "execution_count": 29,
     "metadata": {},
     "output_type": "execute_result"
    }
   ],
   "source": [
    "# American contract\n",
    "americanContract = AmericanContract(und, PutCallFwd.CALL, LongShort.LONG, strike, expiry)\n",
    "amPricer = AmericanTreePricer(americanContract, model, params)\n",
    "pv = amPricer.calc_fair_value()\n",
    "pv"
   ]
  },
  {
   "cell_type": "code",
   "execution_count": 30,
   "id": "a601a41f",
   "metadata": {},
   "outputs": [
    {
     "data": {
      "text/plain": [
       "14.231254785985819"
      ]
     },
     "execution_count": 30,
     "metadata": {},
     "output_type": "execute_result"
    }
   ],
   "source": [
    "analyticPricer = EuropeanAnalyticPricer(europeanContract, model, Params())\n",
    "fv = analyticPricer.calc_fair_value()\n",
    "fv"
   ]
  },
  {
   "cell_type": "code",
   "execution_count": null,
   "id": "3d39bb8e",
   "metadata": {},
   "outputs": [],
   "source": []
  }
 ],
 "metadata": {
  "kernelspec": {
   "display_name": "Python 3 (ipykernel)",
   "language": "python",
   "name": "python3"
  },
  "language_info": {
   "codemirror_mode": {
    "name": "ipython",
    "version": 3
   },
   "file_extension": ".py",
   "mimetype": "text/x-python",
   "name": "python",
   "nbconvert_exporter": "python",
   "pygments_lexer": "ipython3",
   "version": "3.9.0"
  }
 },
 "nbformat": 4,
 "nbformat_minor": 5
}
