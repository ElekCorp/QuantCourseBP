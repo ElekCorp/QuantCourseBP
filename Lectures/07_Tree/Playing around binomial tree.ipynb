{
 "cells": [
  {
   "cell_type": "code",
   "execution_count": 1,
   "id": "4c26eaa4",
   "metadata": {},
   "outputs": [],
   "source": [
    "import sys, os\n",
    "sys.path.append(os.path.dirname(os.path.dirname(os.path.dirname(os.path.realpath('__file__')))))\n",
    "from src.pricer import *"
   ]
  },
  {
   "cell_type": "markdown",
   "id": "850ab19f",
   "metadata": {},
   "source": [
    "# European Tree"
   ]
  },
  {
   "cell_type": "code",
   "execution_count": 24,
   "id": "17aad77d",
   "metadata": {},
   "outputs": [],
   "source": [
    "# Create European contract\n",
    "\n",
    "MarketData.initialize()\n",
    "und = Stock.TEST_COMPANY\n",
    "expiry = 1.0\n",
    "strike = 1.0 * MarketData.get_spot()[und]\n",
    "europeanContract = EuropeanContract(und, PutCallFwd.CALL, LongShort.LONG, strike, expiry)"
   ]
  },
  {
   "cell_type": "code",
   "execution_count": 25,
   "id": "8dbfb438",
   "metadata": {},
   "outputs": [],
   "source": [
    "# Create European Tree pricer\n",
    "\n",
    "params = TreeParams(2)\n",
    "model = FlatVolModel(und)\n",
    "europeanPricer = EuropeanTreePricer(europeanContract, model, params)"
   ]
  },
  {
   "cell_type": "code",
   "execution_count": 26,
   "id": "2b5a851f",
   "metadata": {},
   "outputs": [
    {
     "data": {
      "text/plain": [
       "12.967550694010356"
      ]
     },
     "execution_count": 26,
     "metadata": {},
     "output_type": "execute_result"
    }
   ],
   "source": [
    "europeanPricer.calc_fair_value()"
   ]
  },
  {
   "cell_type": "code",
   "execution_count": 27,
   "id": "6c6de82e",
   "metadata": {},
   "outputs": [
    {
     "data": {
      "text/plain": [
       "14.231254785985819"
      ]
     },
     "execution_count": 27,
     "metadata": {},
     "output_type": "execute_result"
    }
   ],
   "source": [
    "# European Analytic pricer\n",
    "\n",
    "analyticPricer = EuropeanAnalyticPricer(europeanContract, model, Params())\n",
    "analyticPricer.calc_fair_value()"
   ]
  },
  {
   "cell_type": "markdown",
   "id": "3940ff7b",
   "metadata": {},
   "source": [
    "### Tree price != Analytic price, is it a bug?"
   ]
  },
  {
   "cell_type": "code",
   "execution_count": 28,
   "id": "468c8c1a",
   "metadata": {},
   "outputs": [
    {
     "data": {
      "text/plain": [
       "14.218382508275628"
      ]
     },
     "execution_count": 28,
     "metadata": {},
     "output_type": "execute_result"
    }
   ],
   "source": [
    "params100 = TreeParams(100)\n",
    "europeanPricer100 = EuropeanTreePricer(europeanContract, model, params100)\n",
    "europeanPricer100.calc_fair_value()"
   ]
  },
  {
   "cell_type": "code",
   "execution_count": 29,
   "id": "1dd9cfb7",
   "metadata": {},
   "outputs": [
    {
     "data": {
      "text/plain": [
       "10.179157372635926"
      ]
     },
     "execution_count": 29,
     "metadata": {},
     "output_type": "execute_result"
    }
   ],
   "source": [
    "# Calibrating European Tree\n",
    "\n",
    "paramsCalib = TreeParams(2,0.2)\n",
    "europeanPricerCalib = EuropeanTreePricer(europeanContract, model, paramsCalib)\n",
    "europeanPricerCalib.calc_fair_value()"
   ]
  },
  {
   "cell_type": "markdown",
   "id": "3be860ac",
   "metadata": {},
   "source": [
    "# American Tree"
   ]
  },
  {
   "cell_type": "code",
   "execution_count": 30,
   "id": "21a7d331",
   "metadata": {},
   "outputs": [
    {
     "data": {
      "text/plain": [
       "12.967550694010356"
      ]
     },
     "execution_count": 30,
     "metadata": {},
     "output_type": "execute_result"
    }
   ],
   "source": [
    "# American contract and Tree pricer\n",
    "\n",
    "americanContract = AmericanContract(und, PutCallFwd.CALL, LongShort.LONG, strike, expiry)\n",
    "amPricer = AmericanTreePricer(americanContract, model, params)\n",
    "amPricer.calc_fair_value()"
   ]
  },
  {
   "cell_type": "markdown",
   "id": "281ae4cb",
   "metadata": {},
   "source": [
    "### American call price = European call price, is it a bug?"
   ]
  },
  {
   "cell_type": "markdown",
   "id": "d18fcf5c",
   "metadata": {},
   "source": [
    "# Inbalanced Tree"
   ]
  },
  {
   "cell_type": "code",
   "execution_count": 31,
   "id": "128f2ff2",
   "metadata": {},
   "outputs": [
    {
     "data": {
      "text/plain": [
       "7.982310163583209"
      ]
     },
     "execution_count": 31,
     "metadata": {},
     "output_type": "execute_result"
    }
   ],
   "source": [
    "# European Tree with step size specified\n",
    "\n",
    "inbalancedParams = TreeParams(2, np.nan, 1.2, 0.8)\n",
    "inbalancedEuropeanPricer = EuropeanTreePricer(europeanContract, model, inbalancedParams)\n",
    "inbalancedEuropeanPricer.calc_fair_value()"
   ]
  },
  {
   "cell_type": "code",
   "execution_count": 32,
   "id": "f7080291",
   "metadata": {},
   "outputs": [
    {
     "data": {
      "text/plain": [
       "8.518594721699996"
      ]
     },
     "execution_count": 32,
     "metadata": {},
     "output_type": "execute_result"
    }
   ],
   "source": [
    "# American contract and Tree pricer\n",
    "\n",
    "inbalancedAmPricer = AmericanTreePricer(americanContract, model, inbalancedParams)\n",
    "inbalancedAmPricer.calc_fair_value()"
   ]
  },
  {
   "cell_type": "markdown",
   "id": "5af7c3e3",
   "metadata": {},
   "source": [
    "### American call price != European call price, is it a bug?"
   ]
  }
 ],
 "metadata": {
  "kernelspec": {
   "display_name": "Python 3 (ipykernel)",
   "language": "python",
   "name": "python3"
  },
  "language_info": {
   "codemirror_mode": {
    "name": "ipython",
    "version": 3
   },
   "file_extension": ".py",
   "mimetype": "text/x-python",
   "name": "python",
   "nbconvert_exporter": "python",
   "pygments_lexer": "ipython3",
   "version": "3.9.0"
  }
 },
 "nbformat": 4,
 "nbformat_minor": 5
}
