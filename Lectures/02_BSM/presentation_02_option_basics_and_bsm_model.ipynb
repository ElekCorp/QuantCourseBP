{
 "cells": [
  {
   "cell_type": "markdown",
   "id": "a532a3a1-5896-4e70-983d-e8bf12dd22f8",
   "metadata": {},
   "source": [
    "# Option Basics and the Black-Scholes-Merton Model\n",
    "\n",
    "**Table of Contents**\n",
    " * [Simple derivatives](#section_derivatives)\n",
    "    * [Forwards](#subsection_forwards)\n",
    "    * [Call Options](#subsection_calls)\n",
    "    * [Put Options](#subsection_puts)\n"
   ]
  },
  {
   "cell_type": "markdown",
   "id": "22a7130d-a081-4395-a3fe-d8ccbd96f817",
   "metadata": {},
   "source": [
    "## Simple derivatives"
   ]
  },
  {
   "cell_type": "markdown",
   "id": "f14db590-9c7c-48da-8fb0-be8896330763",
   "metadata": {},
   "source": [
    "#### Recap Discounting\n",
    "\n",
    "Why do we use discounting?\n",
    "\n",
    "There are riskless investments on the market, e.g. investing in Treasury bonds. <br>\n",
    "If we have \\\\$100 dollars, we can do the followings:\n",
    "- put it in the freezer, so at any time, we can defrost it and have \\\\$100.\n",
    "- invest in Treasury Bonds, which gives us $r$ coupon per annum, so we'll have \\\\$100 + \\\\$$\\frac{r}{100}$ one year from now\n",
    "\n",
    "So if we lend money, we should always think about that investing the same amount would generate us income, and if the investment is riskless, this income is guaranteed. <br>\n",
    "That is why money has a *time value*."
   ]
  },
  {
   "cell_type": "markdown",
   "id": "b2f31162-d026-412c-8647-81f0f5ba1b4b",
   "metadata": {},
   "source": [
    "Let assume $r$ is the risk-free interest rate, at which money is borrowed or lent with no credit risk, so the money is certain to be paid.\n",
    "\n",
    "We have $N$ amount of money to invest for $t$ years, then our payoff depends on the compound frequency:\n",
    "\n",
    "<table>\n",
    "  <tr>\n",
    "    <th>Investing the money every year</th>\n",
    "    <th></th>\n",
    "    <th>Investing the money $m$ times a year</th>\n",
    "    <th></th>\n",
    "    <th>Investing the money continuously</th>\n",
    "  </tr>\n",
    "  <tr>\n",
    "    <td>\n",
    "        \\begin{equation}\n",
    "            N \\cdot (1 + r)^t\n",
    "        \\end{equation}\n",
    "    </td>\n",
    "    <td></td>\n",
    "    <td> \n",
    "        \\begin{equation}\n",
    "            N \\cdot \\left( 1 + \\frac{r}{m}\\right) ^{m \\cdot t}\n",
    "        \\end{equation}\n",
    "    </td>\n",
    "    <td></td>\n",
    "    <td> \n",
    "        \\begin{equation}\n",
    "            N \\cdot e^{r\\cdot t}\n",
    "        \\end{equation}\n",
    "    </td>\n",
    "  </tr>\n",
    "</table>\n",
    "\n",
    "$N$ is called the **present value** of our investment, while $N \\cdot e^{r\\cdot t}$ is the **future value**.\n",
    "\n",
    "I.e. a price of a bond which pays $n$ cachflows during its life has a present value of\n",
    "\\begin{equation}\n",
    "            PV = \\sum_{i=1}^n Cashflow_i \\cdot e^{-r_i \\cdot t_i}\n",
    "\\end{equation}"
   ]
  },
  {
   "cell_type": "markdown",
   "id": "d95d2b7d-4e57-4edc-94e2-1635e1fdbb0a",
   "metadata": {
    "editable": true,
    "slideshow": {
     "slide_type": "slide"
    },
    "tags": []
   },
   "source": [
    "### Forwards <a class=\"anchor\" id=\"subsection_forwards\"></a>\n",
    "\n",
    "**Spot contract**\n",
    ": an agreement to buy or sell an asset, e.g. a stock almost immediately. Its price is called **spot price**, and we refer to it as $S_0$\n",
    "\n",
    "**Forward contract**\n",
    ": an agreement to buy or sell an asset at a certain future time for a certain price. This date when the sale is made is called **maturity** (or expiry) of the contract, and it is denoted by $T$. <br>\n",
    "$S_T$ is the spot price of the underlying at maturity $T$.\n",
    "\n",
    "One of the parties assumes a long position of the forward contract and agrees to buy the underlying asset on that future date for the predefined price, and the other party assumes a short position and agrees to sell the asset on the same date for the same price."
   ]
  },
  {
   "cell_type": "markdown",
   "id": "d753afdc-d3d4-4db4-ab60-c42841a516e2",
   "metadata": {
    "editable": true,
    "slideshow": {
     "slide_type": ""
    },
    "tags": []
   },
   "source": [
    "#### What is the payoff of this forward contract?\n",
    "\n",
    "The **payoff** from a long position on one unit of an asset is\n",
    "\\begin{equation}\n",
    "S_T - K\n",
    "\\end{equation}\n",
    "where $K$ is the delivery price. It means that the buyer pays $K$ for the asset, and then receives the asset itself, which worth $S_T$ at that time. This amount can be either positive or negative, depending on the price of the asset at $T$.\n",
    "\n",
    "Similarly, the payoff from a short position on one unit of an asset is\n",
    "\\begin{equation}\n",
    "K - S_T\n",
    "\\end{equation}\n",
    "\n",
    "<br>\n",
    "\n",
    "<table>\n",
    "  <tr>\n",
    "    <th>Payoff from a long position</th>\n",
    "    <th>Payoff from a short position</th>\n",
    "  </tr>\n",
    "  <tr>\n",
    "    <td><img src=\"images/long_forward_payoff.PNG\" width=\"400\"/></td>\n",
    "    <td><img src=\"images/short_forward_payoff.PNG\" width=\"400\"/></td>\n",
    "  </tr>\n",
    "</table>"
   ]
  },
  {
   "cell_type": "markdown",
   "id": "fd7aeb8d-e7da-4668-a4bc-ff13a8d3989f",
   "metadata": {},
   "source": [
    "#### What is the value of this forward contract at time $t$?\n",
    "At time $0$,\n",
    "\\begin{equation}\n",
    "f(0, S_0) = S_0 - e^{-rT} \\cdot K\n",
    "\\end{equation}\n",
    "\n",
    "Imagine that we sell this forward contract which leads to the income of $S_0 - e^{-rT}\\cdot K$, but then at time $T$, we must sell the underlying stock. Thus we need to borrow $ e^{-rT}\\cdot K$ from the market, to have enough money to buy one unit.\n",
    "At expiry, we'll have a stock which is worth $S_T$ and a debt worth of $K$, so we replicated the payoff of the forward contract. It means that during the lifetime of the contract, the **value of the forward** contract must be the same as the value of this portfolio, which means at any time $t$\n",
    "\n",
    "\\begin{equation}\n",
    "f(t, S_t) = S_t - e^{-r(T-t)} \\cdot K\n",
    "\\end{equation}\n",
    "\n"
   ]
  },
  {
   "cell_type": "markdown",
   "id": "a302988f-7a94-4dac-8b91-ea6870c09dd2",
   "metadata": {},
   "source": [
    "#### What if the price of this portfolio does not match the forward value?\n",
    "\n",
    "E.g. if $f(0, S_0) > S_0 - e^{-rT} \\cdot K$, then we can sell the forward contract for $f(0, S_0)$ and buy the same porfolio for $S_0 - e^{-rT} \\cdot K$, which leads to an instant income.\n",
    "\n",
    "This is called an **arbitrage** opportunity on the market.\n",
    "\n",
    "**Arbitrage**\n",
    ": a simultaneous purchase and sale of the same (or very similar) product on different markets in order to gain from the price diferences, which is considered as a riskless profit."
   ]
  },
  {
   "cell_type": "markdown",
   "id": "3c6def0c-17a2-49b4-9a91-c4b71c181558",
   "metadata": {},
   "source": [
    "#### What is the delivery price of this forward contract?\n",
    "\n",
    "Entering into a forward contract does not need any money exchange, no cash is flowing between the parties till the expiry of the contract. Thus it does not worth anything at time 0.\n",
    "\n",
    "It means that $K$ is determined to satisfy $S_0 - e^{-rT} \\cdot K = 0$, thus:\n",
    "\\begin{equation}\n",
    "K = S_0 \\cdot e^{rT} =: F_0^T\n",
    "\\end{equation}\n",
    "\n",
    "This $F_0^T$ is called the **forward price** at time $0$.\n",
    "\n",
    "If $K$ does not satifies the above equality, it leads to arbitrage oppurtunities."
   ]
  },
  {
   "cell_type": "markdown",
   "id": "cc30ed84-0274-4b7f-a789-f5e7b9e2f085",
   "metadata": {},
   "source": [
    "#### What is the difference between the value of forward and the price of forward?\n",
    "\n",
    "The forward price is something fixed at the initalization of the contract, while the forward value changes during the life of the contact: it is zero initially at time $0$, but changes to either positive or negative as the market evolves to time $T$. "
   ]
  },
  {
   "cell_type": "markdown",
   "id": "c4cad5a8-2b7d-4552-b506-40b7841a9e65",
   "metadata": {
    "editable": true,
    "slideshow": {
     "slide_type": ""
    },
    "tags": []
   },
   "source": [
    "### Call Options <a class=\"anchor\" id=\"subsection_calls\"></a>\n",
    "\n",
    "**Call option**\n",
    ": gives the option holder the right to *buy* the underlying asset by a certain date for a certain price. This predefined price for sale is called **strike price**. The option seller on the other hand must *sell* the underlying if the option is exercised.\n",
    "\n",
    "The date when the option is exercised can be very different depending on the style of the trade. The most simple construction is called **European call option**, when the option can be exercised only on a predefined date, which is called the **maturity** (or exercise date) of the option.\n",
    "\n",
    "IMPORTANT: the holder does not have to exersice the option, only if he/she wants.\n",
    "\n",
    "#### What is the benefit of this construction?\n",
    "\n",
    "Let's assume that, we received a call option as a gift which says if we want, we can buy a stock of Abracadabra Inc. for \\\\$100 one year from now. <br>\n",
    "Let's think through the following scenarios:\n",
    "\n",
    "- Scenario A: the price of the stock rises to $120 in a year\n",
    "\n",
    "- Scenario B: the price of the stock falls to $90 in a year\n",
    "\n",
    "In Scenario A, if we exercise the option and buy a stock for \\\\$100, we can earn \\\\$20 by selling the stock immediately. In Scenario B, either we buy the stock for \\\\$100 from the option seller or buy it on the market for \\\\$90. In this case, if we exercise the option, we'll technically lose \\\\$10. <br>\n",
    "Since the call option is not a forward contract, we can decide to not buy the stock in Scenario B to lose money, which is a clear benefit.\n",
    "\n",
    "Let's think from the sellers point of view. In Scenario B, nothing will happen, but in Scenario A, they would lose money because they have to sell the stock for \\\\$100 instead of \\\\$120 on the market. This means that the option seller takes the risk to lose money, for which they can claim a price when they sell the option. Let's denote this **call option price** with $c$.\n"
   ]
  },
  {
   "cell_type": "markdown",
   "id": "c731cb17-9627-4cb4-bd01-e5a612088462",
   "metadata": {},
   "source": [
    "#### What is the payoff of this call option contract?\n",
    "\n",
    "The payoff of the call option is \n",
    "\\begin{equation}\n",
    "max\\lbrace S_T - K, 0\\rbrace\n",
    "\\end{equation}\n",
    "\n",
    "<br>\n",
    "\n",
    "<table>\n",
    "  <tr>\n",
    "    <th>Payoff of a call option</th>\n",
    "  </tr>\n",
    "  <tr>\n",
    "    <td><img src=\"images/call_option_payoff.PNG\" width=\"400\"/></td>\n",
    "  </tr>\n",
    "</table>"
   ]
  },
  {
   "cell_type": "markdown",
   "id": "c47c1591-1781-4c3a-a6b9-3f9141e4eb64",
   "metadata": {},
   "source": [
    "### Put Options <a class=\"anchor\" id=\"subsection_puts\"></a>\n",
    "\n",
    "**Put option**\n",
    ": gives the option holder the right to *sell* the underlying asset by a certain date for a certain price. Similarly to the call option, this predefined price is called **strike price**. The option seller on the other hand must *buy* the underlying if the option is exercised.\n",
    "\n",
    "Analogously, a **European put option** can be only exercised on the maturity date of the option.\n",
    "\n",
    "#### What is the benefit of this construction?\n",
    "\n",
    "The option seller takes risk with a put option as well, so they will claim a price for it. Let's denote this **put option price** with $p$.\n",
    "\n",
    "Let's assume that we just bought an Abracadabra Inc. stock from the market which worth \\\\$100 now, and we bought a put option which says we'll have the chance to sell the stock for \\\\$100 one year from now. <br>\n",
    "Let's think through the same scenarios:\n",
    "\n",
    "- Scenario A: the price of the stock rises to $120 in a year\n",
    "\n",
    "- Scenario B: the price of the stock falls to $90 in a year\n",
    "\n",
    "In Scenario A, we should not exercise our option, since , we would sell our stock for \\\\$100 instead of \\\\$120 market price. In contract, in Scenario B,\n",
    "we can sell our stock to the option seller for higher price than the market price. We can even buy the predefined amount of stocks on the market at time $T$ for \\\\$90 /unit, exercise the option and sell them to the option seller for \\\\$100.\n",
    "\n",
    "Put options also act as something like an insurance, to floor your loss if the stock price falls significatly.\n"
   ]
  },
  {
   "cell_type": "markdown",
   "id": "a05ecaa9-3507-4c4d-811b-f2da7d6a1c9a",
   "metadata": {
    "editable": true,
    "slideshow": {
     "slide_type": ""
    },
    "tags": []
   },
   "source": [
    "#### What is the payoff of this put option contract?\n",
    "The payoff of the put option is \n",
    "\\begin{equation}\n",
    "min\\lbrace K - S_T, 0\\rbrace\n",
    "\\end{equation}\n",
    "\n",
    "<br>\n",
    "\n",
    "<table>\n",
    "  <tr>\n",
    "    <th>Payoff of a put option</th>\n",
    "  </tr>\n",
    "  <tr>\n",
    "    <td><img src=\"images/put_option_payoff.PNG\" width=\"400\"/></td>\n",
    "  </tr>\n",
    "</table>"
   ]
  },
  {
   "cell_type": "markdown",
   "id": "cd62c3ad-59c4-464f-91c5-5961d673313a",
   "metadata": {},
   "source": [
    "## Relationship of Forward, Call and Put prices"
   ]
  },
  {
   "cell_type": "markdown",
   "id": "54f26f1b-a20f-4a49-95de-49d1552fb8d0",
   "metadata": {},
   "source": [
    "Consider the following two portfolios:\n",
    "- Portfolio X: one European call option + a zero-coupon bond that provides a payoff of $K$ at time $T$\n",
    "\n",
    "- Portfolio Y: one European put option + one share of the stock"
   ]
  },
  {
   "cell_type": "markdown",
   "id": "03b6d175-a707-45e6-aa4f-74b7dd1a11cf",
   "metadata": {},
   "source": [
    "#### What are the payoffs of these portfolios?\n",
    "\n",
    "<table>\n",
    "    <tr>\n",
    "        <td>\n",
    "            <table>\n",
    "                <tr>\n",
    "                    <th></th>\n",
    "                    <th></th>\n",
    "                    <th>$S _T > K$</th>\n",
    "                    <th>$S _T < K$</th>\n",
    "                </tr>\n",
    "                <tr>\n",
    "                    <td rowspan=\"3\">Portfolio X</td>\n",
    "                    <td>Call option</td>\n",
    "                    <td>$S_T - K$</td>\n",
    "                    <td>$0$</td>\n",
    "                </tr>\n",
    "                <tr>\n",
    "                    <td>Zero-coupon bond</td>\n",
    "                    <td>$K$</td>\n",
    "                    <td>$K$</td>\n",
    "                </tr>\n",
    "                <tr>\n",
    "                    <td><i>Total</i></td>\n",
    "                    <td>$S_T$</td>\n",
    "                    <td>$K$</td>\n",
    "                </tr>\n",
    "            </table>\n",
    "        </td>\n",
    "        <td></td>    \n",
    "        <td>\n",
    "            <table>\n",
    "                <tr>\n",
    "                    <th></th>\n",
    "                    <th></th>\n",
    "                    <th>$S _T > K$</th>\n",
    "                    <th>$S _T < K$</th>\n",
    "                </tr>\n",
    "                <tr>\n",
    "                    <td rowspan=\"3\">Portfolio Y</td>\n",
    "                    <td>Put option</td>\n",
    "                    <td>$0$</td>\n",
    "                    <td>$K - S_T$</td>\n",
    "                </tr>\n",
    "                <tr>\n",
    "                    <td>Stock</td>\n",
    "                    <td>$S_T$</td>\n",
    "                    <td>$S_T$</td>\n",
    "                </tr>\n",
    "                <tr>\n",
    "                    <td><i>Total</i></td>\n",
    "                    <td>$S_T$</td>\n",
    "                    <td>$K$</td>\n",
    "                </tr>\n",
    "            </table>\n",
    "        </td>\n",
    "    </tr>\n",
    "</table>\n",
    "\n",
    "So the payoff of both portfolios when the option expire at time $T$ is\n",
    "\\begin{equation}\n",
    "max\\lbrace S_T, K\\rbrace\n",
    "\\end{equation}"
   ]
  },
  {
   "cell_type": "markdown",
   "id": "a0be66d8-bc93-4f5b-bb86-6451b3de139e",
   "metadata": {},
   "source": [
    "#### Put-Call Parity\n",
    "If we want to avoid arbitrage possibilities, the portfolios must have identical values today. <br>\n",
    "The components of Portfolio X are worth $c$ and $K\\cdot e^{-rT}$ today, and the components of Portfolio Y are worth $p$ and $S_0$ today.\n",
    "\n",
    "Hence the following applies:\n",
    "\\begin{equation}\n",
    "c + K\\cdot e^{-rT} = p + S_0\n",
    "\\end{equation}\n",
    "\n",
    "For any $ 0 \\leq t \\leq T$:\n",
    "\\begin{equation}\n",
    "c_t + K\\cdot e^{-r\\cdot(T-t)} = p_t + S_t\n",
    "\\end{equation}\n",
    "\n",
    "which equality is called **Put-Call Parity**.\n",
    "\n",
    "It shows that we can deduce the price of the put from the price of the call with the same strike price and maturity date, and vica versa."
   ]
  },
  {
   "cell_type": "markdown",
   "id": "18dff055-5ee2-4019-a805-bfd4a9beaa1b",
   "metadata": {},
   "source": [
    "With a small rearrangement, we'll get the following equality:\n",
    "\n",
    "\\begin{equation}\n",
    "c_t - p_t = S_t - K\\cdot e^{-r\\cdot(T-t)}\n",
    "\\end{equation}\n",
    "\n",
    "which shows that a long call plus a short put option payoff is the same as a long forward payoff.\n",
    "\n",
    "<table>\n",
    "  <tr>\n",
    "    <th>Put-Call Parity</th>\n",
    "  </tr>\n",
    "  <tr>\n",
    "    <td><img src=\"images/put_call_parity.PNG\" width=\"600\"/></td>\n",
    "  </tr>\n",
    "</table>"
   ]
  },
  {
   "cell_type": "code",
   "execution_count": null,
   "id": "f88b9259-2dd8-4564-9669-17772b641e59",
   "metadata": {},
   "outputs": [],
   "source": []
  }
 ],
 "metadata": {
  "kernelspec": {
   "display_name": "venv_quant_course_v39",
   "language": "python",
   "name": "venv_quant_course_v39"
  },
  "language_info": {
   "codemirror_mode": {
    "name": "ipython",
    "version": 3
   },
   "file_extension": ".py",
   "mimetype": "text/x-python",
   "name": "python",
   "nbconvert_exporter": "python",
   "pygments_lexer": "ipython3",
   "version": "3.9.13"
  }
 },
 "nbformat": 4,
 "nbformat_minor": 5
}
