{
 "cells": [
  {
   "cell_type": "code",
   "execution_count": 7,
   "id": "244e8f56",
   "metadata": {},
   "outputs": [],
   "source": [
    "import numpy as np\n",
    "import math\n",
    "from scipy.stats import norm"
   ]
  },
  {
   "cell_type": "markdown",
   "id": "e0d755f3",
   "metadata": {},
   "source": [
    "## Asian options pricing"
   ]
  },
  {
   "cell_type": "code",
   "execution_count": 8,
   "id": "70397c1f",
   "metadata": {},
   "outputs": [],
   "source": [
    "def pricer_mm(S0, K, r, sigma, T, n, option_type):\n",
    "    \n",
    "#     M1 = S0 /(n+1)*sum([np.exp(r*i/n) for i in range(n+1)])\n",
    "#     M2 = S0**2/(n+1)**2 * sum([np.exp(r*(i+j)/n + (sigma**2)*min(i,j)/n) for i in range(n+1) for j in range(n+1)])\n",
    "    M1 = S0 /n*sum([np.exp(r*(i+1)/n) for i in range(n)])\n",
    "    M2 = S0**2/n**2 * sum([np.exp(r*(i+j+2)/n + (sigma**2)*min(i+1,j+1)/n) for i in range(n) for j in range(n)])\n",
    "    param1 = 2*np.log(M1) - np.log(M2)/2\n",
    "    param2 = math.sqrt(np.log(M2) - 2*np.log(M1))\n",
    "    d1 = (np.log(1/K) + param1 + param2**2) /param2\n",
    "    d2 = d1 - param2\n",
    "    if option_type == 'call':\n",
    "        price = np.exp(-r*T) * (np.exp(param1+(param2**2)/2)*norm.cdf(d1) - K*norm.cdf(d2) )\n",
    "    elif option_type == 'put':\n",
    "        price = np.exp(-r*T) * (K*norm.cdf(-d2) - (np.exp(param1 +( param2**2)/2) ) * norm.cdf(-d1) )\n",
    "    else:\n",
    "        raise ValueError(\"Option type must be either 'call' or 'put'.\")\n",
    "\n",
    "    return price"
   ]
  },
  {
   "cell_type": "code",
   "execution_count": 9,
   "id": "734c5410",
   "metadata": {},
   "outputs": [],
   "source": [
    "def pricer_mc(S0, K, r, sigma, T, n, M, option_type):\n",
    "    \n",
    "    dt = T/n\n",
    "    ranvec = np.random.normal(0, 1,(M, n))\n",
    "\n",
    "    Spath1 = S0*np.concatenate((np.ones((M,1)),np.cumprod(np.exp((r-0.5*sigma**2)*dt + sigma*np.sqrt(dt)*(ranvec)), axis=1)), axis=1)\n",
    "    Spath2 = S0*np.concatenate((np.ones((M,1)),np.cumprod(np.exp((r-0.5*sigma**2)*dt + sigma*np.sqrt(dt)*(-ranvec)), axis=1)), axis=1)\n",
    "    U1 = np.average(Spath1, axis=1)\n",
    "    U2 = np.average(Spath2, axis=1)\n",
    "    C = 0.5*np.exp(-r*T)*(np.maximum(U1 - K, 0) + np.maximum(U2 - K, 0) )\n",
    "    P = 0.5*np.exp(-r*T)*(np.maximum(K - U1, 0) + np.maximum(K - U2, 0) )\n",
    "    price_c = np.mean(C)\n",
    "    price_p = np.mean(P)\n",
    "    stderr_c = np.std(C)/np.sqrt(M)\n",
    "    stderr_p = np.std(P)/np.sqrt(M)\n",
    "    confint_c = [price_c - 1.96*stderr_c, price_c + 1.96*stderr_c]\n",
    "    confint_p = [price_p - 1.96*stderr_p, price_p + 1.96*stderr_p]\n",
    "    if option_type == 'call':\n",
    "        price = price_c\n",
    "        confint = confint_c\n",
    "    elif option_type == 'put':\n",
    "        price = price_p\n",
    "        confint = confint_p\n",
    "    else:\n",
    "        raise ValueError(\"Option type must be either 'call' or 'put'.\")\n",
    "\n",
    "    return [price] + confint"
   ]
  },
  {
   "cell_type": "code",
   "execution_count": 94,
   "id": "dcbc7f60",
   "metadata": {},
   "outputs": [],
   "source": [
    "S0 = 130.17\n",
    "K = 100\n",
    "r = 0.05\n",
    "sigma = 0.484\n",
    "T = 1\n",
    "n = 100\n",
    "option_type = \"put\"\n",
    "M = 2\n"
   ]
  },
  {
   "cell_type": "code",
   "execution_count": 95,
   "id": "0b095f43",
   "metadata": {},
   "outputs": [
    {
     "name": "stdout",
     "output_type": "stream",
     "text": [
      "133.51254487923345\n",
      "19344.921981767002\n",
      "4.853298268049465\n",
      "0.28599711365275\n",
      "1.1535865759808366\n",
      "0.8675894623280866\n",
      "0.951229424500714\n",
      "34.42807314132599\n"
     ]
    }
   ],
   "source": [
    "M1 = S0 /n*sum([np.exp(r*(i+1)/n) for i in range(n)])\n",
    "print(M1)\n",
    "M2 = S0**2/n**2 * sum([np.exp(r*(i+j+2)/n + (sigma**2)*min(i+1,j+1)/n) for i in range(n) for j in range(n)])\n",
    "print(M2)\n",
    "param1 = 2*np.log(M1) - np.log(M2)/2\n",
    "print(param1)\n",
    "param2 = math.sqrt(np.log(M2) - 2*np.log(M1))\n",
    "print(param2)\n",
    "d1 = (np.log(1/K) + param1 + param2**2) /param2\n",
    "print(d1)\n",
    "d2 = d1 - param2\n",
    "print(d2)\n",
    "print(np.exp(-r*T))\n",
    "price = np.exp(-r*T) * (np.exp(param1+(param2**2)/2)*norm.cdf(d1) - K*norm.cdf(d2) )\n",
    "print(price)"
   ]
  },
  {
   "cell_type": "code",
   "execution_count": 92,
   "id": "aecb91ad",
   "metadata": {},
   "outputs": [
    {
     "data": {
      "text/plain": [
       "36.193238197395715"
      ]
     },
     "execution_count": 92,
     "metadata": {},
     "output_type": "execute_result"
    }
   ],
   "source": [
    " (np.exp(param1+(param2**2)/2)*norm.cdf(d1) - K*norm.cdf(d2) )"
   ]
  },
  {
   "cell_type": "code",
   "execution_count": 93,
   "id": "4cd9cbec",
   "metadata": {},
   "outputs": [
    {
     "data": {
      "text/plain": [
       "0.951229424500714"
      ]
     },
     "execution_count": 93,
     "metadata": {},
     "output_type": "execute_result"
    }
   ],
   "source": [
    "np.exp(-r*T)"
   ]
  },
  {
   "cell_type": "code",
   "execution_count": null,
   "id": "44f4a317",
   "metadata": {},
   "outputs": [],
   "source": []
  },
  {
   "cell_type": "code",
   "execution_count": null,
   "id": "32a04541",
   "metadata": {},
   "outputs": [],
   "source": []
  },
  {
   "cell_type": "code",
   "execution_count": 96,
   "id": "07d108b3",
   "metadata": {
    "scrolled": true
   },
   "outputs": [
    {
     "data": {
      "text/plain": [
       "2.5499543622983545"
      ]
     },
     "execution_count": 96,
     "metadata": {},
     "output_type": "execute_result"
    }
   ],
   "source": [
    "pricer_mm(S0, K, r, sigma, T, n, option_type)"
   ]
  },
  {
   "cell_type": "code",
   "execution_count": 65,
   "id": "af0bde42",
   "metadata": {
    "scrolled": true
   },
   "outputs": [
    {
     "data": {
      "text/plain": [
       "[2.748542653690688, 1.5049059202853021, 3.9921793870960736]"
      ]
     },
     "execution_count": 65,
     "metadata": {},
     "output_type": "execute_result"
    }
   ],
   "source": [
    "pricer_mc(S0, K, r, sigma, T, n, M, option_type)"
   ]
  },
  {
   "cell_type": "code",
   "execution_count": null,
   "id": "4dca3544",
   "metadata": {},
   "outputs": [],
   "source": [
    "np.concatenate((np.ones((M,1)),np.cumprod(np.exp((r-0.5*sigma**2)*dt + sigma*np.sqrt(dt)*(ranvec)), axis=1)), axis=1)"
   ]
  },
  {
   "cell_type": "code",
   "execution_count": null,
   "id": "bc67f911",
   "metadata": {},
   "outputs": [],
   "source": []
  },
  {
   "cell_type": "code",
   "execution_count": 70,
   "id": "02fd8af4",
   "metadata": {},
   "outputs": [
    {
     "data": {
      "text/plain": [
       "array([[ 0.48365333, -0.63718807,  0.19488429,  1.53101143,  0.64164264],\n",
       "       [ 0.58478757,  0.8351021 , -0.637963  , -0.75709799, -1.03089092]])"
      ]
     },
     "execution_count": 70,
     "metadata": {},
     "output_type": "execute_result"
    }
   ],
   "source": [
    "np.random.normal(0, 1,(M, n))"
   ]
  },
  {
   "cell_type": "code",
   "execution_count": 75,
   "id": "99863b0e",
   "metadata": {},
   "outputs": [
    {
     "data": {
      "text/plain": [
       "array([[1.345644  , 1.1046238 , 1.03630287, 1.08173319, 1.07764883],\n",
       "       [0.99188214, 1.02475468, 1.09520924, 1.04497134, 1.04226809]])"
      ]
     },
     "execution_count": 75,
     "metadata": {},
     "output_type": "execute_result"
    }
   ],
   "source": [
    "np.exp((r-0.5*sigma**2)*dt + sigma*np.sqrt(dt)*(ranvec))"
   ]
  },
  {
   "cell_type": "code",
   "execution_count": 76,
   "id": "45f1eabc",
   "metadata": {},
   "outputs": [
    {
     "data": {
      "text/plain": [
       "array([[1.345644  , 1.48643039, 1.54039208, 1.66629324, 1.79567896],\n",
       "       [0.99188214, 1.01643587, 1.11320995, 1.16327249, 1.2124418 ]])"
      ]
     },
     "execution_count": 76,
     "metadata": {},
     "output_type": "execute_result"
    }
   ],
   "source": [
    "np.cumprod(np.exp((r-0.5*sigma**2)*dt + sigma*np.sqrt(dt)*(ranvec)), axis=1)"
   ]
  },
  {
   "cell_type": "code",
   "execution_count": null,
   "id": "005635c6",
   "metadata": {},
   "outputs": [],
   "source": []
  },
  {
   "cell_type": "markdown",
   "id": "ae29046e",
   "metadata": {},
   "source": [
    "## Barrier options pricing"
   ]
  },
  {
   "cell_type": "code",
   "execution_count": 31,
   "id": "dc913a80",
   "metadata": {},
   "outputs": [],
   "source": [
    "'''\n",
    "Vanilla Call option price\n",
    "Inputs:\n",
    " k :strike\n",
    " r: interest rate\n",
    " x: underlying price at time 0\n",
    " tau: time to expiry\n",
    " sigma: volatility\n",
    "    \n",
    "'''\n",
    "def price_european_call(K, r, S0, tau, sigma):\n",
    "    d1 = (np.log(S0/K) + (r+0.5*(sigma**2))*tau) / (sigma*np.sqrt(tau))\n",
    "    d2 = (np.log(S0/K) + (r-0.5*(sigma**2))*tau) / (sigma*np.sqrt(tau))\n",
    "    return S0*norm.cdf(d1)-K*np.exp(-r*tau)*norm.cdf(d2)\n",
    "\n",
    "'''\n",
    "Down-and-In Single Lower Barrier Call option price from call option\n",
    "Additional inputs:\n",
    "  B: (lower) barrier level at t=0\n",
    "'''\n",
    "def price_barrier_down_in_call(K, r, S0, tau, sigma, B):\n",
    "    misc = r-(sigma**2)/2\n",
    "    return (B/S0)**(2*misc/(sigma**2))*call_price(K,r,(B**2)/S0,tau,sigma)\n",
    "\n",
    "'''\n",
    "Down-and-Out Single Lower Barrier Call option price from call option\n",
    "'''\n",
    "def price_barrier_down_out_call(K, r, S0, tau, sigma, B):\n",
    "    return call_price(K, r, S0, tau, sigma) - price_barrier_down_in_call(K, r, S0, tau, sigma, B)\n",
    "\n",
    "'''\n",
    "Simulate Geometric Brownian motion several times\n",
    "Inputs:\n",
    "  S0: underlying price at time 0\n",
    "  r: return\n",
    "  sigma: volatility\n",
    "  T: time to expiry\n",
    "  n: path length (number of monitoring points)\n",
    "  M: number of paths\n",
    "Output: matrix, rows contain the MC paths \n",
    "'''\n",
    "def simulate_GBM(S0, r, sigma, T, n, M):\n",
    "    dt = T/n\n",
    "    ranvec = np.random.normal(0, 1,(M, n))\n",
    "    return S0*np.concatenate((np.ones((M,1)),np.cumprod(np.exp((r-0.5*sigma**2)*dt + sigma*np.sqrt(dt)*(ranvec)), axis=1)), axis=1)\n",
    "\n",
    "'''\n",
    "Down-and-out call barrier pricer with normal Monte Carlo\n",
    "'''\n",
    "def price_barrier_down_in_mc(K, r, S0, sigma, B, T, n, M):\n",
    "  simi = simulate_GBM(S0, r, sigma, T, n, M)\n",
    "  pat=c(1:m)\n",
    "  rem=sapply(pat, function(i){\n",
    "    ok=((min(sim[ ,i])>L) & (sim[nrow(sim),i]>k))\n",
    "    return(ok) })\n",
    "  sum(sim[nrow(sim),rem]-k)/m*exp(-r*tt)\n",
    "}\n"
   ]
  },
  {
   "cell_type": "code",
   "execution_count": 32,
   "id": "c199daf3",
   "metadata": {},
   "outputs": [],
   "source": [
    "K = 100\n",
    "r = 0.05\n",
    "S0 = 130.17\n",
    "T = 1\n",
    "tau = 1\n",
    "sigma = 0.484\n",
    "B = 90\n",
    "n = 5\n",
    "M = 2"
   ]
  },
  {
   "cell_type": "code",
   "execution_count": 36,
   "id": "babd5d5c",
   "metadata": {},
   "outputs": [
    {
     "name": "stdout",
     "output_type": "stream",
     "text": [
      "43.30739589609889\n",
      "4.7350438619284505\n",
      "38.572352034170436\n",
      "[[130.17       136.63216068 136.60421398 135.77757379 167.94099427\n",
      "  123.59885799]\n",
      " [130.17       141.43500925 128.25667684 138.04207452 163.88793101\n",
      "  162.63008917]]\n"
     ]
    }
   ],
   "source": [
    "print(price_european_call(K, r, S0, tau, sigma))\n",
    "print(price_barrier_down_in_call(K, r, S0, tau, sigma, B))\n",
    "print(price_barrier_down_out_call(K, r, S0, tau, sigma, B))\n",
    "print(simulate_GBM(S0, r, sigma, T, n, M))"
   ]
  },
  {
   "cell_type": "code",
   "execution_count": 50,
   "id": "1a8efb06",
   "metadata": {},
   "outputs": [
    {
     "name": "stdout",
     "output_type": "stream",
     "text": [
      "[[130.17       133.45386217 217.61880543 175.8485371  146.96686435\n",
      "  122.31279252]\n",
      " [130.17       126.85713176 154.32630077 144.04788805 102.31047629\n",
      "  105.34688541]]\n"
     ]
    },
    {
     "ename": "ValueError",
     "evalue": "The truth value of an array with more than one element is ambiguous. Use a.any() or a.all()",
     "output_type": "error",
     "traceback": [
      "\u001b[1;31m---------------------------------------------------------------------------\u001b[0m",
      "\u001b[1;31mValueError\u001b[0m                                Traceback (most recent call last)",
      "Cell \u001b[1;32mIn[50], line 3\u001b[0m\n\u001b[0;32m      1\u001b[0m simi \u001b[38;5;241m=\u001b[39m simulate_GBM(S0, r, sigma, T, n, M)\n\u001b[0;32m      2\u001b[0m \u001b[38;5;28mprint\u001b[39m(simi)\n\u001b[1;32m----> 3\u001b[0m \u001b[38;5;28;43mmin\u001b[39;49m\u001b[43m(\u001b[49m\u001b[43msimulate_GBM\u001b[49m\u001b[43m(\u001b[49m\u001b[43mS0\u001b[49m\u001b[43m,\u001b[49m\u001b[43m \u001b[49m\u001b[43mr\u001b[49m\u001b[43m,\u001b[49m\u001b[43m \u001b[49m\u001b[43msigma\u001b[49m\u001b[43m,\u001b[49m\u001b[43m \u001b[49m\u001b[43mT\u001b[49m\u001b[43m,\u001b[49m\u001b[43m \u001b[49m\u001b[43mn\u001b[49m\u001b[43m,\u001b[49m\u001b[43m \u001b[49m\u001b[43mM\u001b[49m\u001b[43m)\u001b[49m\u001b[43m)\u001b[49m\n",
      "\u001b[1;31mValueError\u001b[0m: The truth value of an array with more than one element is ambiguous. Use a.any() or a.all()"
     ]
    }
   ],
   "source": [
    "simi = simulate_GBM(S0, r, sigma, T, n, M)\n",
    "print(simi)\n",
    "min(simulate_GBM(S0, r, sigma, T, n, M))"
   ]
  },
  {
   "cell_type": "code",
   "execution_count": 61,
   "id": "4098860b",
   "metadata": {},
   "outputs": [
    {
     "data": {
      "text/plain": [
       "array([122.31279252, 102.31047629])"
      ]
     },
     "execution_count": 61,
     "metadata": {},
     "output_type": "execute_result"
    }
   ],
   "source": [
    "np.min(simi, 1)"
   ]
  },
  {
   "cell_type": "code",
   "execution_count": null,
   "id": "09bde7bc",
   "metadata": {},
   "outputs": [],
   "source": []
  }
 ],
 "metadata": {
  "kernelspec": {
   "display_name": "Python 3 (ipykernel)",
   "language": "python",
   "name": "python3"
  },
  "language_info": {
   "codemirror_mode": {
    "name": "ipython",
    "version": 3
   },
   "file_extension": ".py",
   "mimetype": "text/x-python",
   "name": "python",
   "nbconvert_exporter": "python",
   "pygments_lexer": "ipython3",
   "version": "3.11.3"
  }
 },
 "nbformat": 4,
 "nbformat_minor": 5
}
