{
 "cells": [
  {
   "cell_type": "raw",
   "id": "490498f5",
   "metadata": {},
   "source": []
  },
  {
   "cell_type": "markdown",
   "id": "c5ac3ff5",
   "metadata": {
    "slideshow": {
     "slide_type": "subslide"
    }
   },
   "source": [
    "<h4><center> Introduction to building a quant pricing library practice\n",
    " </center></h4>\n",
    "\n",
    "<h1><center> Pricing Barrier Options </center></h1>\n",
    "\n",
    "<h4><center>\n",
    "<h3><center> Varga László </center></h3> <br /> \n",
    "Department of Probability Theory and Statistics, ELTE, TTK <br /> \n",
    "</center></h4>\n",
    "     \n",
    "<h4><center> <a href=\"mailto:vargala4@gmail.com\">vargala4@gmail.com</a>  </center></h4>    "
   ]
  },
  {
   "cell_type": "markdown",
   "id": "b02288de",
   "metadata": {
    "slideshow": {
     "slide_type": "slide"
    }
   },
   "source": [
    "<h3><center> Introduction - Barrier options </center></h3>\n",
    "\n",
    "- Derivative which payoff depends on whether the underlier's price has reached a pre-determined barrier value\n",
    "- Payoff is path-dependent\n",
    "- Exercise is usually European style\n",
    "\n",
    "\n",
    "\n"
   ]
  },
  {
   "cell_type": "markdown",
   "id": "71f84b26",
   "metadata": {
    "slideshow": {
     "slide_type": "fragment"
    }
   },
   "source": [
    "- Advantages:\n",
    "    - A wisely chosen barrier option may provide additional protection, therefore they are very popolar tools for hedging\n",
    "    - Barrier option prices are smaller than the prices of the respective vanilla options\n"
   ]
  },
  {
   "cell_type": "markdown",
   "id": "37c9bf10",
   "metadata": {
    "slideshow": {
     "slide_type": "subslide"
    }
   },
   "source": [
    "- Pricing methods:\n",
    "    - exact calculation: available only for very few types\n",
    "    - **Monte Carlo simulation** - most popular\n",
    "        - Brownian bridges technique - for increased efficiency\n",
    "    - numerical solution of the pricing PDE\n"
   ]
  },
  {
   "cell_type": "markdown",
   "id": "49658e00",
   "metadata": {
    "slideshow": {
     "slide_type": "slide"
    }
   },
   "source": [
    "<h3><center> Mathematical notations </center></h3>\n",
    "\n",
    "- $(S_t)_{t\\in [0,T]}$: asset price process\n",
    "- $T$: exercise date\n",
    "- $K$: strike\n",
    "- $\\{ t_1,\\ldots,t_n \\}$: fix observation times, $0\\leq t_1 \\leq \\ldots \\leq t_n \\leq T$ on which we take the average of the asset price\n",
    "- $A_T$: average of the underlying asset prices in time interval $[0,T]$\n",
    "- $x_+=max(x,0)$: positive value of $x$"
   ]
  },
  {
   "cell_type": "markdown",
   "id": "0ec24085",
   "metadata": {
    "slideshow": {
     "slide_type": "subslide"
    }
   },
   "source": [
    "<h3><center> Types of barrier options </center></h3>\n",
    "\n",
    "- Call or Put\n",
    "- Knock-in or knock-out\n",
    "- **Single** (upper or lower) or double (upper and lower) barrier\n",
    "- Continuously or discretely monitored\n",
    "    \n"
   ]
  },
  {
   "cell_type": "markdown",
   "id": "a2e6a3d7",
   "metadata": {
    "slideshow": {
     "slide_type": "subslide"
    }
   },
   "source": [
    "- Averaging type and Monitoring frequency\n",
    "\n",
    "**Averaging type $\\quad$  Continuously monitored $\\qquad \\qquad \\ $ Discretely monitored**                                                    \n",
    "Geometric    $\\qquad$    $\\left(exp\\left\\{ \\frac{1}{T}\\int\\limits_0^T \\log S_t \\,dt \\right\\} -K \\right)_+$    $\\quad$      $\\left(  \\left( \\prod\\limits_{i=1}^n S_{t_i} \\right)^{1/n} -K \\right)_+ $\n",
    "\n",
    "Arithmetic  $\\qquad \\qquad$  $\\left( \\frac{1}{T}\\int\\limits_0^T S_t\\, dt-K \\right)_+$ $\\qquad \\qquad \\quad$ $\\color{blue}{\\left( \\frac{1}{n} \\sum\\limits_{i=1}^n S_{t_i} -K \\right)_+} $\n",
    "\n"
   ]
  },
  {
   "cell_type": "markdown",
   "id": "afc9fcda",
   "metadata": {
    "slideshow": {
     "slide_type": "slide"
    }
   },
   "source": [
    "<h3><center> Pricing of Asian options </center></h3>\n",
    "\n",
    "- Price (PV) of a Call Asian option at time $t=0: \\quad e^{-rT}E\\left[ (A_T-K)_+ \\right]$\n",
    "- There is no closed formula for the price, as $A_T$ is the arithmetical average of lognormal random variables, which is (usually) not lognormally distributed"
   ]
  },
  {
   "cell_type": "markdown",
   "id": "d557aa48",
   "metadata": {
    "slideshow": {
     "slide_type": "subslide"
    }
   },
   "source": [
    "<h3><center> Pricing by moment matching </center></h3>\n",
    "\n",
    "- First proposed by Edmond Levy for Asian options\n",
    "- We approximate $A_T$ by a properly parametrized lognormal random variable $V$\n",
    "- The lognormal distribution is determined by its first two moments, therefore we match the first two moments of $A_T$ and $V$\n"
   ]
  },
  {
   "cell_type": "markdown",
   "id": "5ffec858",
   "metadata": {
    "slideshow": {
     "slide_type": "subslide"
    }
   },
   "source": [
    "First and second moments of $A_T$ are\n",
    "- $ E \\left(A_T \\right) =  \\frac{S_0}{n}\\sum\\limits_{i=1}^{n}\\exp\\left\\{rt_i\\right\\}$\n",
    "- $ E \\left( A_T^2 \\right) =  \\frac{S^2_0}{n^2}\\sum\\limits_{i,j=1}^{n}\\exp\\left\\{r(t_i+t_j) + \\sigma^2\\min(t_i, t_j)\\right\\}$"
   ]
  },
  {
   "cell_type": "markdown",
   "id": "af46f633",
   "metadata": {
    "slideshow": {
     "slide_type": "fragment"
    }
   },
   "source": [
    "$\\hspace{-5mm}$\n",
    "If $V$ is lognormal with parameters $m$ and $\\sigma$, then the first two moments of $V$ are \n",
    "\n",
    "$\\quad EV = \\exp\\left\\{m+\\frac{\\sigma^2}{2} \\right\\} \\quad $ and \n",
    "$\\quad E V^2 = \\exp\\left\\{2m+2\\sigma^2 \\right\\}$"
   ]
  },
  {
   "cell_type": "markdown",
   "id": "7897337b",
   "metadata": {
    "slideshow": {
     "slide_type": "subslide"
    }
   },
   "source": [
    "Matching the first two moments and solving the system of equations:\n",
    "- $m = 2\\, \\text{log} E \\! \\left(A_T\\right) - \\frac{1}{2} \\, \\text{log} E \\! \\left( A_T^2 \\right)$ \n",
    "- $\\sigma^2 = \\text{log} E \\! \\left( A_T^2 \\right) - 2 \\text{log} E \\! \\left( A_T \\right)$"
   ]
  },
  {
   "cell_type": "markdown",
   "id": "05930217",
   "metadata": {
    "slideshow": {
     "slide_type": "subslide"
    }
   },
   "source": [
    "Finally we can substitute into the Black-Scholes formula to get the moment matching approximation price of a Call Asian option:\n",
    "\n",
    "$\\hspace{30mm} e^{-rT}\\left(e^{m+\\frac{\\sigma^2}{2}} \\Phi\\left(d_1\\right)-K \\Phi\\left(d_2\\right)\\right)$, where\n",
    "\n",
    "- $d_1=\\frac{\\log \\left(\\frac{S_0}{K}\\right)+m+\\sigma^2}{\\sigma}$\n",
    "- $d_2=d_1-\\sigma$ \n",
    "    "
   ]
  },
  {
   "cell_type": "markdown",
   "id": "bfd4abe7",
   "metadata": {
    "slideshow": {
     "slide_type": "slide"
    }
   },
   "source": [
    "<h3><center> Simulations </center></h3>\n",
    "\n",
    "- Showing the Asian pricer in the codebase and do some pricing exercise.\n",
    "\n",
    "- Comparison of the moment matching approach with Monte Carlo pricing. Relative and absolute error.\n",
    "\n"
   ]
  },
  {
   "cell_type": "code",
   "execution_count": null,
   "id": "61ec5fe2",
   "metadata": {},
   "outputs": [],
   "source": []
  },
  {
   "cell_type": "code",
   "execution_count": null,
   "id": "73dd9524",
   "metadata": {},
   "outputs": [],
   "source": [
    "direction"
   ]
  },
  {
   "cell_type": "code",
   "execution_count": 1,
   "id": "d0c12889",
   "metadata": {},
   "outputs": [
    {
     "name": "stdout",
     "output_type": "stream",
     "text": [
      "100.0\n",
      "0.3\n",
      "4.83847947905555\n"
     ]
    }
   ],
   "source": [
    "import sys\n",
    "from pathlib import Path\n",
    "import numpy as np\n",
    "import matplotlib.pyplot as plt\n",
    "\n",
    "current = Path().resolve()\n",
    "sys.path.append(str(current))\n",
    "sys.path.append(str(current.parents[1]))\n",
    "\n",
    "from src.enums import *\n",
    "from src.utils import *\n",
    "from src.market_data import *\n",
    "from src.pricer import *\n",
    "# Make charts interactive\n",
    "%matplotlib notebook\n",
    "\n",
    "# Initialize market data\n",
    "MarketData.initialize()"
   ]
  },
  {
   "cell_type": "code",
   "execution_count": 2,
   "id": "b0c3568e",
   "metadata": {},
   "outputs": [
    {
     "name": "stdout",
     "output_type": "stream",
     "text": [
      "100.0\n"
     ]
    }
   ],
   "source": [
    "underlying = Stock.TEST_COMPANY\n",
    "spot = FlatVolModel(underlying).get_spot()\n",
    "print(spot)"
   ]
  },
  {
   "cell_type": "code",
   "execution_count": 3,
   "id": "f9ef53d9",
   "metadata": {},
   "outputs": [
    {
     "name": "stdout",
     "output_type": "stream",
     "text": [
      "0.3\n"
     ]
    }
   ],
   "source": [
    "moneyness = 1\n",
    "expiry = 1\n",
    "strike = spot * moneyness\n",
    "vol = FlatVolModel(underlying).get_vol(strike, expiry)\n",
    "print(vol)"
   ]
  },
  {
   "cell_type": "code",
   "execution_count": 15,
   "id": "50ca590f",
   "metadata": {},
   "outputs": [
    {
     "name": "stdout",
     "output_type": "stream",
     "text": [
      "4.83847947905555\n",
      "(3.974237896431247, [3.7579589221183074, 4.190516870744187])\n"
     ]
    }
   ],
   "source": [
    "nr_monitoring_points = 100 \n",
    "barrier = 90\n",
    "up_down = UpDown.DOWN\n",
    "in_out = InOut.IN\n",
    "\n",
    "volgrid = MarketData.get_vol_grid()[underlying]\n",
    "contract = EuropeanBarrierContract(underlying, PutCallFwd.CALL, LongShort.LONG, strike, expiry, \n",
    "                                   nr_monitoring_points, barrier, up_down, in_out)\n",
    "model = FlatVolModel(underlying)\n",
    "params = Params()\n",
    "pricer_AN = BarrierAnalyticPricer(contract, model, params)\n",
    "print(pricer_AN.calc_fair_value())\n",
    "\n",
    "# params_MC = MCParams(seed = 2)\n",
    "params_MC = MCParams(seed = 9, num_of_path = 10000, tenor_frequency = 100)\n",
    "pricer_MC = GenericMCPricer(contract, model, params_MC)\n",
    "print(pricer_MC.calc_fair_value())"
   ]
  },
  {
   "cell_type": "code",
   "execution_count": 16,
   "id": "dbfc1c51",
   "metadata": {},
   "outputs": [
    {
     "data": {
      "text/plain": [
       "90"
      ]
     },
     "execution_count": 16,
     "metadata": {},
     "output_type": "execute_result"
    }
   ],
   "source": [
    "contract.get_barrier().get_barrier_level()"
   ]
  },
  {
   "cell_type": "code",
   "execution_count": 18,
   "id": "bd1d83ca",
   "metadata": {},
   "outputs": [
    {
     "data": {
      "text/plain": [
       "<InOut.IN: 'IN'>"
      ]
     },
     "execution_count": 18,
     "metadata": {},
     "output_type": "execute_result"
    }
   ],
   "source": [
    "contract.get_barrier().get_in_out()"
   ]
  },
  {
   "cell_type": "code",
   "execution_count": 19,
   "id": "908b0b08",
   "metadata": {},
   "outputs": [
    {
     "data": {
      "text/plain": [
       "<UpDown.DOWN: 'DOWN'>"
      ]
     },
     "execution_count": 19,
     "metadata": {},
     "output_type": "execute_result"
    }
   ],
   "source": [
    "contract.get_barrier().get_up_down()"
   ]
  },
  {
   "cell_type": "code",
   "execution_count": null,
   "id": "88d55aae",
   "metadata": {},
   "outputs": [],
   "source": []
  },
  {
   "cell_type": "code",
   "execution_count": null,
   "id": "6bf8099f",
   "metadata": {},
   "outputs": [],
   "source": []
  },
  {
   "cell_type": "markdown",
   "id": "6268576b",
   "metadata": {},
   "source": [
    "<h3><center> Assignment </center></h3>\n",
    "\n",
    "- Show by simulation and a graph that for increasing volatility, the error of the moment matching approximation increases.\n",
    "- Show by simulation and a graph that for longer averaging periods, the error of the moment matching approximation increases. What is the mathematical theorem that substitutes this result? (central limit theorem)"
   ]
  },
  {
   "cell_type": "markdown",
   "id": "9419f0a0",
   "metadata": {
    "slideshow": {
     "slide_type": "slide"
    }
   },
   "source": [
    "<h3><center> Conclusions </center></h3>\n",
    "\n",
    "Experience with the moment matching technique\n",
    "- Fast calculations\n",
    "- The approximation is very good for short averaging periods\n",
    "- The approximation gets worse if volatility is large and the averaging period is long\n",
    "- Risks are stable even under severely stressed conditions"
   ]
  },
  {
   "cell_type": "markdown",
   "id": "d5ec90e2",
   "metadata": {
    "slideshow": {
     "slide_type": "slide"
    }
   },
   "source": [
    "<h3><center> References </center></h3>\n",
    "\n",
    "- Pak Keung Chan: Pricing Asian Options by the Method of Moments Matching. Master Thesis, University of Waterloo, Ontario, Canada, 2015\n",
    "- Edmond Levy: Pricing european average rate currency options. Vol. 11, No 5. (1992), pp. 474–491, *Journal of International Money and Finance*\n",
    "- Stuart M. Turnbull and Lee MacDonald Wakeman: A Quick Algorithm for Pricing European Average Options. The Journal of Financial and Quantitative Analysis. Vol. 26, No. 3 (Sep., 1991), pp. 377-389, *Cambridge University Press*\n"
   ]
  },
  {
   "cell_type": "code",
   "execution_count": null,
   "id": "b9186556",
   "metadata": {},
   "outputs": [],
   "source": []
  },
  {
   "cell_type": "code",
   "execution_count": null,
   "id": "153b4b27",
   "metadata": {},
   "outputs": [],
   "source": []
  },
  {
   "cell_type": "code",
   "execution_count": null,
   "id": "ff129963",
   "metadata": {},
   "outputs": [],
   "source": []
  },
  {
   "cell_type": "code",
   "execution_count": null,
   "id": "aa3d2424",
   "metadata": {},
   "outputs": [],
   "source": []
  },
  {
   "cell_type": "code",
   "execution_count": null,
   "id": "34fb8386",
   "metadata": {},
   "outputs": [],
   "source": []
  }
 ],
 "metadata": {
  "celltoolbar": "Slideshow",
  "kernelspec": {
   "display_name": "Python 3 (ipykernel)",
   "language": "python",
   "name": "python3"
  },
  "language_info": {
   "codemirror_mode": {
    "name": "ipython",
    "version": 3
   },
   "file_extension": ".py",
   "mimetype": "text/x-python",
   "name": "python",
   "nbconvert_exporter": "python",
   "pygments_lexer": "ipython3",
   "version": "3.11.3"
  }
 },
 "nbformat": 4,
 "nbformat_minor": 5
}
