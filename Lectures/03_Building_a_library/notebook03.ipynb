{
 "cells": [
  {
   "cell_type": "markdown",
   "id": "440b29ea-bbf4-4ddb-af5f-13123f60c303",
   "metadata": {
    "slideshow": {
     "slide_type": "slide"
    },
    "tags": []
   },
   "source": [
    "# Quant Course: Lesson 3\n",
    "## Building a pricing library - Initial steps"
   ]
  },
  {
   "cell_type": "markdown",
   "id": "79c90e01-4dbb-40dc-96a8-10d055128ab3",
   "metadata": {
    "slideshow": {
     "slide_type": "slide"
    }
   },
   "source": [
    "## What did we learn last time?\n",
    "\n",
    "<b>Risk-free interest rate</b> ($r$): Annual return of a riskless investment, i.e. the minimum return an investor expects for any investment.\n",
    "\n",
    "<b>Spot contract</b>: An agreement between two parties (a buyer and a seller) to trade an asset \"*immediately*\".\n",
    "\n",
    "Fair value: $ S_t $\n",
    "\n",
    "The buyer of a contract takes a *Long* position, while the seller of a contract takes a *Short* position."
   ]
  },
  {
   "cell_type": "markdown",
   "id": "3073366e",
   "metadata": {
    "slideshow": {
     "slide_type": "slide"
    }
   },
   "source": [
    "<b>Forward contract</b>: An agreement between two parties (a buyer and a seller) to trade an underlying asset at a <u>certain price</u> ($K$: strike) on a <u>certain future date</u> ($T$: expiry). This is an <u>obligation</u> to both parties.\n",
    "\n",
    "Payoff at expiry (LF): $ \\;\\;\\; S_T-K $\n",
    "\n",
    "<img src=\"./img/payoff_forward.jpg\" style=\"margin-left:auto; margin-right:auto; width: 730px;\" />"
   ]
  },
  {
   "cell_type": "markdown",
   "id": "46d8c861",
   "metadata": {
    "slideshow": {
     "slide_type": "slide"
    }
   },
   "source": [
    "<b>(European) Call option contract</b>: The option buyer has the <u>right</u>, but not the obligation, to <u><b>buy</b></u> an underlying asset at a certain price ($K$: strike) on a certain future date ($T$: expiry). If option is exercised by buyer, the option seller must <u>sell</u> the underlying asset.\n",
    "\n",
    "Payoff at expiry (LC): $ \\;\\;\\; max\\lbrace S_T-K, 0\\rbrace $\n",
    "\n",
    "<img src=\"./img/payoff_call.jpg\" style=\"margin-left:auto; margin-right:auto; width: 730px;\" />"
   ]
  },
  {
   "cell_type": "markdown",
   "id": "80f9d1e6",
   "metadata": {
    "slideshow": {
     "slide_type": "slide"
    }
   },
   "source": [
    "<b>(European) Put option contract</b>: The option buyer has the <u>right</u>, but not the obligation, to <u><b>sell</b></u> an underlying asset at a certain price ($K$: strike) on a certain future date ($T$: expiry). If option is exercised by the option buyer, the option seller must <u>buy</u> the underlying asset.\n",
    "\n",
    "Payoff at expiry (LP): $ \\;\\;\\; max\\lbrace K-S_T, 0\\rbrace $\n",
    "\n",
    "<img src=\"./img/payoff_put.jpg\" style=\"margin-left:auto; margin-right:auto; width: 730px;\" />"
   ]
  },
  {
   "cell_type": "markdown",
   "id": "da6df6a1",
   "metadata": {
    "slideshow": {
     "slide_type": "slide"
    }
   },
   "source": [
    "## Pricing under Black-Scholes model assumptions\n",
    "Spot price: $ S_t $, strike price: $ K $, expiry: $ T $, volatility of underlying: $ \\sigma $, risk-free rate: $ r $\n",
    "\n",
    "<b>Forward (LF)</b>: $ \\;\\;\\; f_t = S_t - Ke^{-r(T-t)} $\n",
    "\n",
    "<b>Call option (LC)</b>: $ \\;\\;\\; c_t = S_tN(d_1) - Ke^{-r(T-t)}N(d_2) $\n",
    "\n",
    "<b>Put option (LP)</b>: $ \\;\\;\\; p_t = Ke^{-r(T-t)}N(-d_2) - S_tN(-d_1) $"
   ]
  },
  {
   "cell_type": "markdown",
   "id": "cdfc2390",
   "metadata": {
    "slideshow": {
     "slide_type": "slide"
    }
   },
   "source": [
    "where $N(\\cdot)$ is the standard normal CDF\n",
    "\n",
    "$ d_1 = \\dfrac{1}{\\sigma\\sqrt{T-t}}\\left[ln\\left(\\dfrac{S_t}{K}\\right)+\\left(r+\\dfrac{\\sigma^2}{2}\\right)(T-t)\\right] \\;\\;\\;\\;\\;\\;\\;\\;\\;\\; d_2 = d_1 - \\sigma\\sqrt{T-t} $\n",
    "\n",
    "<br>\n",
    "<b>Put-call parity</b>: $ LF=LC+SP $\n",
    "\n",
    "$ f_t=c_t-p_t $"
   ]
  },
  {
   "cell_type": "markdown",
   "id": "393e41d2",
   "metadata": {
    "slideshow": {
     "slide_type": "slide"
    }
   },
   "source": [
    "## Warm up exercise\n",
    "\n",
    "Let's price a real life European call option contract on a Google stock using Black-Scholes model.\n",
    "\n",
    "Data:\n",
    "\n",
    "* https://finance.yahoo.com/quote/GOOG/options?p=GOOG\n",
    "* https://www.marketwatch.com/investing/bond/tmubmusd01y"
   ]
  },
  {
   "cell_type": "markdown",
   "id": "88d4d69a",
   "metadata": {
    "slideshow": {
     "slide_type": "slide"
    }
   },
   "source": [
    "<img src=\"./img/pricing_example.jpg\" style=\"margin-left:auto; margin-right:auto\" />"
   ]
  },
  {
   "cell_type": "code",
   "execution_count": null,
   "id": "18633654",
   "metadata": {
    "slideshow": {
     "slide_type": "skip"
    }
   },
   "outputs": [],
   "source": [
    "import numpy as np\n",
    "from scipy.stats import norm\n",
    "\n",
    "def black_scholes_european_call(S0: float, K: float, T: float, sigma: float, r: float):\n",
    "    d1 = ( np.log( S0 / K ) + ( r + 0.5 * sigma**2 ) * T ) / ( sigma * T**0.5 )\n",
    "    d2 = d1 - sigma * T**0.5\n",
    "    N_d1 = norm.cdf(d1)\n",
    "    N_d2 = norm.cdf(d2)\n",
    "    df = np.exp((-1.0)*r*T)\n",
    "    return S0 * N_d1 - K * df * N_d2"
   ]
  },
  {
   "cell_type": "code",
   "execution_count": null,
   "id": "8dfc226d",
   "metadata": {
    "slideshow": {
     "slide_type": "skip"
    }
   },
   "outputs": [],
   "source": [
    "import datetime as dt\n",
    "\n",
    "...\n",
    "\n",
    "premium = ...\n",
    "print(f'Premium: {round(premium, 2)}$')"
   ]
  },
  {
   "cell_type": "markdown",
   "id": "e1fa5db2",
   "metadata": {
    "slideshow": {
     "slide_type": "slide"
    }
   },
   "source": [
    "## How to build a pricing library?\n",
    "\n",
    "<b>Goal</b>: Implement a coherent code base that is able to calculate fair value and greeks of various contracts in a generic way.\n",
    "\n",
    "<b>Requirements</b>:\n",
    "* Separate market data from pricing code\n",
    "* Reusability: Avoid code duplication\n",
    "* Scalability: Should be fairly easy to onboard a new contract or a pricer\n",
    "* Encapsulation: Bundle related data and funcionalities into a structured unit"
   ]
  },
  {
   "cell_type": "markdown",
   "id": "a0682156",
   "metadata": {
    "slideshow": {
     "slide_type": "slide"
    }
   },
   "source": [
    "<img src=\"./img/building_blocks_empty.jpg\" style=\"margin-left:auto; margin-right:auto; width: 1000px;\" />"
   ]
  },
  {
   "cell_type": "markdown",
   "id": "4a29c1e0",
   "metadata": {
    "slideshow": {
     "slide_type": "slide"
    }
   },
   "source": [
    "<img src=\"./img/building_blocks_full.jpg\" style=\"margin-left:auto; margin-right:auto; width: 1000px;\" />"
   ]
  },
  {
   "cell_type": "markdown",
   "id": "5b947e14",
   "metadata": {
    "slideshow": {
     "slide_type": "slide"
    }
   },
   "source": [
    "<img src=\"./img/contracts.jpg\" style=\"margin-left:auto; margin-right:auto; width: 800px;\" />"
   ]
  },
  {
   "cell_type": "markdown",
   "id": "9e6681af",
   "metadata": {
    "slideshow": {
     "slide_type": "slide"
    }
   },
   "source": [
    "## Important concepts\n",
    "\n",
    "<b>Inheritance</b>: Deriving a class (Derived/Child/Sub) from another class (Base/Parent/Super) that share a set of properties and methods.\n",
    "\n",
    "<b>Abstract Base Class (ABC)</b>: Such a class is not concrete and cannot be instantiated. Instead, it forces derived classes to implement all abstract properties and methods.\n",
    "\n",
    "<b>Access Modifiers</b>: One can restrict the accessibility of properties and methods to protect internal class data. Access levels: public (default), protected (starts with \\_), private (starts with \\__)\n"
   ]
  },
  {
   "cell_type": "markdown",
   "id": "1072a1bb",
   "metadata": {
    "slideshow": {
     "slide_type": "slide"
    }
   },
   "source": [
    "<b>Let's build the library!</b>"
   ]
  },
  {
   "cell_type": "code",
   "execution_count": null,
   "id": "ab9f68be",
   "metadata": {
    "slideshow": {
     "slide_type": "skip"
    }
   },
   "outputs": [],
   "source": [
    "# Add current folder and QuantCourseBP folder to syspath to import modules\n",
    "import sys\n",
    "from pathlib import Path\n",
    "current = Path(Path().resolve())\n",
    "sys.path.append(str(current))\n",
    "sys.path.append(str(current.parents[1]))"
   ]
  },
  {
   "cell_type": "code",
   "execution_count": null,
   "id": "cd6ae954",
   "metadata": {
    "slideshow": {
     "slide_type": "skip"
    }
   },
   "outputs": [],
   "source": []
  },
  {
   "cell_type": "code",
   "execution_count": null,
   "id": "e88d6d82",
   "metadata": {
    "slideshow": {
     "slide_type": "skip"
    }
   },
   "outputs": [],
   "source": []
  },
  {
   "cell_type": "code",
   "execution_count": null,
   "id": "878f7fa2",
   "metadata": {
    "slideshow": {
     "slide_type": "skip"
    }
   },
   "outputs": [],
   "source": []
  },
  {
   "cell_type": "code",
   "execution_count": null,
   "id": "bfb21463",
   "metadata": {
    "slideshow": {
     "slide_type": "skip"
    }
   },
   "outputs": [],
   "source": []
  },
  {
   "cell_type": "code",
   "execution_count": null,
   "id": "77735fa9",
   "metadata": {
    "slideshow": {
     "slide_type": "skip"
    }
   },
   "outputs": [],
   "source": []
  },
  {
   "cell_type": "code",
   "execution_count": null,
   "id": "14d4c82b-1356-4446-9cfa-6dd5cac7fa21",
   "metadata": {
    "slideshow": {
     "slide_type": "skip"
    }
   },
   "outputs": [],
   "source": []
  },
  {
   "cell_type": "code",
   "execution_count": null,
   "id": "014e1546-43a2-41da-a245-ba25e84babbd",
   "metadata": {
    "slideshow": {
     "slide_type": "skip"
    }
   },
   "outputs": [],
   "source": []
  },
  {
   "cell_type": "code",
   "execution_count": null,
   "id": "80d0dd3b-9a4d-44d9-9dc0-fe1429cb8539",
   "metadata": {
    "slideshow": {
     "slide_type": "skip"
    }
   },
   "outputs": [],
   "source": []
  },
  {
   "cell_type": "code",
   "execution_count": null,
   "id": "eec6d273-4ce8-47e2-ba9c-4330f902b709",
   "metadata": {
    "slideshow": {
     "slide_type": "skip"
    }
   },
   "outputs": [],
   "source": []
  },
  {
   "cell_type": "code",
   "execution_count": null,
   "id": "02baaf5c-8d5c-4fc1-bc52-775304d146c1",
   "metadata": {
    "slideshow": {
     "slide_type": "skip"
    }
   },
   "outputs": [],
   "source": []
  }
 ],
 "metadata": {
  "celltoolbar": "Slideshow",
  "kernelspec": {
   "display_name": "Python 3 (ipykernel)",
   "language": "python",
   "name": "python3"
  },
  "language_info": {
   "codemirror_mode": {
    "name": "ipython",
    "version": 3
   },
   "file_extension": ".py",
   "mimetype": "text/x-python",
   "name": "python",
   "nbconvert_exporter": "python",
   "pygments_lexer": "ipython3",
   "version": "3.9.13"
  }
 },
 "nbformat": 4,
 "nbformat_minor": 5
}
