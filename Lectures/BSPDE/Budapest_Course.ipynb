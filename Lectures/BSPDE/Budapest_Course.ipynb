{
 "cells": [
  {
   "cell_type": "markdown",
   "id": "e73630d9",
   "metadata": {},
   "source": [
    "# Quant Course: Lecture 6\n",
    "\n",
    "\n"
   ]
  },
  {
   "cell_type": "markdown",
   "id": "73423803",
   "metadata": {},
   "source": [
    "## Option Pricing by PDE\n",
    "\n",
    "<b>Goal of option pricing via PDE:<b>\n",
    "\n",
    "* Use the Black Scholes PDE to price European Contract\n",
    "* Use  different discretization scheme to achieve better results\n",
    "* Compare the solution to the Analytical Pricer\n",
    "\n",
    "\n",
    "<b>Extension<b>\n",
    "* Calculate Greeks based on the different Schemes\n",
    "* Extend PDE pricing scheme to Forward and American contracts<b>"
   ]
  },
  {
   "cell_type": "markdown",
   "id": "4b44fab1",
   "metadata": {},
   "source": [
    "# Steps to achieve our Objectives\n",
    "* Create Market Model\n",
    "* Create European Contract using market inputs (underlying, Call/Put, Long/Short, strike, expiry)\n",
    "* Create PDEParams using $dS, dt, S_{min}, S_{max} $ and method (implicit, explicit, CrankNicolson) as inputs\n",
    "* Create EuropeanPDEPricer using the contract, model and PDEParams\n",
    "* Calculate FV\n",
    "* Visualize the Call and Put prices in 2D and 3D"
   ]
  },
  {
   "cell_type": "code",
   "execution_count": 2,
   "id": "d852295c",
   "metadata": {},
   "outputs": [],
   "source": [
    "# Add current folder and QuantCourseBP folder to syspath to import modules\n",
    "import sys\n",
    "from pathlib import Path\n",
    "current = Path(Path().resolve())\n",
    "sys.path.append(str(current))\n",
    "sys.path.append(str(current.parents[1]))\n",
    "\n",
    "from src.utils import *\n",
    "from src.market_data import *\n",
    "from src.pricer import *\n",
    "# Make charts interactive\n",
    "%matplotlib notebook\n",
    "\n",
    "# Initialize market data\n",
    "MarketData.initialize()"
   ]
  },
  {
   "cell_type": "code",
   "execution_count": 3,
   "id": "13a9b0e1",
   "metadata": {},
   "outputs": [],
   "source": [
    "und = Stock.TEST_COMPANY\n",
    "expiry = 2.0\n",
    "strike = 0.95 * MarketData.get_spot()[und]\n",
    "ls = LongShort.LONG"
   ]
  },
  {
   "cell_type": "code",
   "execution_count": null,
   "id": "74021d63",
   "metadata": {},
   "outputs": [],
   "source": [
    "expected_result = {\n",
    "    (PutCallFwd.CALL, BSVolModel): 23.60627624868423,\n",
    "    (PutCallFwd.CALL, FlatVolModel): 19.558965822125977,\n",
    "    (PutCallFwd.PUT, BSVolModel): 9.565830962100371,\n",
    "    (PutCallFwd.PUT, FlatVolModel): 5.518520535542123\n",
    "}\n",
    "contract = EuropeanContract(und, derivative_type, ls, strike, expiry)\n",
    "mod = model(self.und)\n",
    "pricer = EuropeanAnalyticPricer(contract, mod, Params())\n",
    "fv = pricer.calc_fair_value()"
   ]
  },
  {
   "cell_type": "markdown",
   "id": "945f1381-4496-4939-b26d-4faf33b4602c",
   "metadata": {},
   "source": [
    "<img src=\"lesson_pages/1.png\">"
   ]
  },
  {
   "cell_type": "markdown",
   "id": "35abbc72-e599-405c-acf6-cebd614d5a71",
   "metadata": {},
   "source": [
    "<img src=\"lesson_pages/2.png\">"
   ]
  },
  {
   "cell_type": "markdown",
   "id": "8243049c-1fc9-4e07-943d-3e159de1ad9f",
   "metadata": {},
   "source": [
    "<img src=\"lesson_pages/3.png\">"
   ]
  },
  {
   "cell_type": "markdown",
   "id": "a80c48d1-3001-44ba-9d53-a10794a6eb3f",
   "metadata": {},
   "source": [
    "<img src=\"lesson_pages/4.png\">"
   ]
  },
  {
   "cell_type": "markdown",
   "id": "40711a25-9a4f-4b70-8d08-9626f17a4d05",
   "metadata": {},
   "source": [
    "<img src=\"lesson_pages/5.png\">"
   ]
  },
  {
   "cell_type": "markdown",
   "id": "96c64362-2071-4ae9-9ecd-f77a48f3e02f",
   "metadata": {},
   "source": [
    "# EXAMPLE WITH EXPLICIT METHOD"
   ]
  },
  {
   "cell_type": "code",
   "execution_count": 10,
   "id": "455d1d41-0fc9-4789-820f-773de2b32e3f",
   "metadata": {},
   "outputs": [],
   "source": [
    "# Create European Contract\n",
    "# Create Market Model\n",
    "# Create PDEParams\n",
    "# Create GenericPDEPricer\n",
    "# Calculate FV and Greeks based on Explicit method\n",
    "# Visualize the Call and Put prices in 2D and 3D"
   ]
  },
  {
   "cell_type": "markdown",
   "id": "1617f2f9",
   "metadata": {},
   "source": [
    "# Implicit Method"
   ]
  },
  {
   "cell_type": "markdown",
   "id": "81e02891-8df6-4e54-84dd-292cd7d3096a",
   "metadata": {},
   "source": [
    "<img src=\"lesson_pages/6.png\">"
   ]
  },
  {
   "cell_type": "markdown",
   "id": "93fe4e15-0385-4531-8e33-20a0f8c33f5a",
   "metadata": {},
   "source": [
    "<img src=\"lesson_pages/7.png\">"
   ]
  },
  {
   "cell_type": "markdown",
   "id": "d40dc689-12b5-4d0c-be37-1d2d7ae42c3f",
   "metadata": {},
   "source": [
    "<img src=\"lesson_pages/7.png\">"
   ]
  },
  {
   "cell_type": "markdown",
   "id": "01c1d758-ad4e-44cb-96f3-2d43ce005be9",
   "metadata": {},
   "source": [
    "<img src=\"lesson_pages/8.png\">"
   ]
  },
  {
   "cell_type": "markdown",
   "id": "97028202-7104-48eb-bd7a-3fdbb85875a6",
   "metadata": {},
   "source": [
    "# EXAMPLE WITH IMPLICIT METHOD"
   ]
  },
  {
   "cell_type": "code",
   "execution_count": 8,
   "id": "02b0c11f-5d91-4a0c-be24-a48d73bc1d8e",
   "metadata": {},
   "outputs": [],
   "source": [
    "# Create European Contract\n",
    "# Create Market Model\n",
    "# Create PDEParams\n",
    "# Create GenericPDEPricer\n",
    "# Calculate FV and Greeks based on Implicit method\n",
    "# Visualize the Call and Put prices in 2D and 3D"
   ]
  },
  {
   "cell_type": "markdown",
   "id": "c6d4b9b2-e550-4fea-8e1f-82124fbd6097",
   "metadata": {},
   "source": [
    "<img src=\"lesson_pages/9.png\">"
   ]
  },
  {
   "cell_type": "markdown",
   "id": "b2a73a1f-b2f9-44e8-b299-a68ec3d318ca",
   "metadata": {},
   "source": [
    "<img src=\"lesson_pages/10.png\">"
   ]
  },
  {
   "cell_type": "markdown",
   "id": "f587d6c1-61b8-4444-ae35-6f92a7fc1609",
   "metadata": {},
   "source": [
    "<img src=\"lesson_pages/11.png\">"
   ]
  },
  {
   "cell_type": "markdown",
   "id": "ecbba509-0dd5-40df-828a-ab35f4d4ee56",
   "metadata": {},
   "source": [
    "# EXAMPLE WITH CRANK NICOLSON METHOD"
   ]
  },
  {
   "cell_type": "code",
   "execution_count": 7,
   "id": "0d2738cb-30a2-43e2-9a78-1b0897cf62bd",
   "metadata": {},
   "outputs": [],
   "source": [
    "# Create European Contract\n",
    "# Create Market Model\n",
    "# Create PDEParams\n",
    "# Create GenericPDEPricer\n",
    "# Calculate FV and Greeks based on Crank_Nicolson methods\n",
    "# Visualize the Call and Put prices in 2D and 3D"
   ]
  },
  {
   "cell_type": "markdown",
   "id": "5413989b-a40a-4edd-8ca2-129234a66757",
   "metadata": {},
   "source": [
    "# COMPARE PRICE AND GREEKS WITH EUROPEAN ANALYTICAL PRICER"
   ]
  },
  {
   "cell_type": "code",
   "execution_count": null,
   "id": "75f2407e-37dd-4a9d-9397-5fbf575192ab",
   "metadata": {},
   "outputs": [],
   "source": []
  }
 ],
 "metadata": {
  "kernelspec": {
   "display_name": "Python 3 (ipykernel)",
   "language": "python",
   "name": "python3"
  },
  "language_info": {
   "codemirror_mode": {
    "name": "ipython",
    "version": 3
   },
   "file_extension": ".py",
   "mimetype": "text/x-python",
   "name": "python",
   "nbconvert_exporter": "python",
   "pygments_lexer": "ipython3",
   "version": "3.9.7"
  }
 },
 "nbformat": 4,
 "nbformat_minor": 5
}
