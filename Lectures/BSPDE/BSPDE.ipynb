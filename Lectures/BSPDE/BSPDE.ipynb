{
 "cells": [
  {
   "cell_type": "code",
   "execution_count": 1,
   "id": "89994ab2-7a16-4f75-9bb7-bc69b2b05565",
   "metadata": {},
   "outputs": [],
   "source": [
    "import os \n",
    "import sys"
   ]
  },
  {
   "cell_type": "code",
   "execution_count": 2,
   "id": "9f5da92c-9248-4d56-97e3-9aa94c4f242b",
   "metadata": {},
   "outputs": [],
   "source": [
    "sys.path.append(\"..\\..\")"
   ]
  },
  {
   "cell_type": "code",
   "execution_count": 3,
   "id": "9b01d927",
   "metadata": {
    "slideshow": {
     "slide_type": "-"
    }
   },
   "outputs": [],
   "source": [
    "from src.market_data import *"
   ]
  },
  {
   "cell_type": "code",
   "execution_count": 4,
   "id": "860295a5",
   "metadata": {
    "slideshow": {
     "slide_type": "slide"
    }
   },
   "outputs": [],
   "source": [
    "MarketData.initialize()"
   ]
  },
  {
   "cell_type": "code",
   "execution_count": 5,
   "id": "50615667-c751-46b5-97a7-15ef59f8a215",
   "metadata": {},
   "outputs": [
    {
     "name": "stdout",
     "output_type": "stream",
     "text": [
      "No Python documentation found for <Stock.TEST_COMPANY: 'TEST_COMPANY'>.\n",
      "Use help() to get the interactive help utility.\n",
      "Use help(str) for help on the str class.\n",
      "\n"
     ]
    }
   ],
   "source": [
    "help(Stock.TEST_COMPANY)"
   ]
  },
  {
   "cell_type": "code",
   "execution_count": 6,
   "id": "dbe37b75-1957-4a2b-afd9-db8358cae72a",
   "metadata": {},
   "outputs": [],
   "source": [
    "from src.pricer import *"
   ]
  },
  {
   "cell_type": "code",
   "execution_count": 7,
   "id": "97f3a89d-1d38-45ab-aec6-32a4c6ca3b4f",
   "metadata": {},
   "outputs": [],
   "source": [
    "model = FlatVolModel(Stock.TEST_COMPANY)\n",
    "expiry = 1.0\n",
    "strike = 100\n",
    "contract = EuropeanContract(Stock.TEST_COMPANY, PutCallFwd.PUT, LongShort.LONG, strike, expiry)"
   ]
  },
  {
   "cell_type": "code",
   "execution_count": 19,
   "id": "46c13a57-7355-4434-8078-1474f36e2fc4",
   "metadata": {},
   "outputs": [],
   "source": [
    "params = PDEParams(method = \"cranknicolson\")"
   ]
  },
  {
   "cell_type": "code",
   "execution_count": 43,
   "id": "3643aef4-5fb4-4076-a7cb-8818159c094e",
   "metadata": {},
   "outputs": [],
   "source": [
    "params = PDEParams(method = \"implicit\")"
   ]
  },
  {
   "cell_type": "code",
   "execution_count": 20,
   "id": "ebcc899d-5092-4fac-9be4-375562afefd0",
   "metadata": {},
   "outputs": [],
   "source": [
    "params = PDEParams(und_step= 2, time_step = 1/1200, stock_min = 0, stock_max= 200, method= \"explicit\")"
   ]
  },
  {
   "cell_type": "code",
   "execution_count": 21,
   "id": "83554e12-7562-4470-8891-b28fe03e199a",
   "metadata": {},
   "outputs": [],
   "source": [
    "PDEpricer = EuropeanPDEPricer(contract, model, params)"
   ]
  },
  {
   "cell_type": "code",
   "execution_count": 16,
   "id": "8695af9f-3e58-42ec-96bf-f7b6ea26e9e9",
   "metadata": {},
   "outputs": [
    {
     "data": {
      "text/plain": [
       "array([  0.,   1.,   2.,   3.,   4.,   5.,   6.,   7.,   8.,   9.,  10.,\n",
       "        11.,  12.,  13.,  14.,  15.,  16.,  17.,  18.,  19.,  20.,  21.,\n",
       "        22.,  23.,  24.,  25.,  26.,  27.,  28.,  29.,  30.,  31.,  32.,\n",
       "        33.,  34.,  35.,  36.,  37.,  38.,  39.,  40.,  41.,  42.,  43.,\n",
       "        44.,  45.,  46.,  47.,  48.,  49.,  50.,  51.,  52.,  53.,  54.,\n",
       "        55.,  56.,  57.,  58.,  59.,  60.,  61.,  62.,  63.,  64.,  65.,\n",
       "        66.,  67.,  68.,  69.,  70.,  71.,  72.,  73.,  74.,  75.,  76.,\n",
       "        77.,  78.,  79.,  80.,  81.,  82.,  83.,  84.,  85.,  86.,  87.,\n",
       "        88.,  89.,  90.,  91.,  92.,  93.,  94.,  95.,  96.,  97.,  98.,\n",
       "        99., 100.])"
      ]
     },
     "execution_count": 16,
     "metadata": {},
     "output_type": "execute_result"
    }
   ],
   "source": [
    "(PDEpricer._bsPDE.measure_of_stock)"
   ]
  },
  {
   "cell_type": "code",
   "execution_count": 27,
   "id": "fabc5dd4-2b40-4676-8ee2-e5cf9046bffc",
   "metadata": {},
   "outputs": [
    {
     "data": {
      "text/plain": [
       "array([ 95.12294245,  95.12690599,  95.13086969, ...,  99.99166701,\n",
       "        99.99583342, 100.        ])"
      ]
     },
     "execution_count": 27,
     "metadata": {},
     "output_type": "execute_result"
    }
   ],
   "source": [
    "((PDEpricer.grid)[:,0])"
   ]
  },
  {
   "cell_type": "code",
   "execution_count": 18,
   "id": "6470d5df-9d59-42d8-9185-78189947f7fa",
   "metadata": {},
   "outputs": [
    {
     "data": {
      "text/plain": [
       "9.349075221635864"
      ]
     },
     "execution_count": 18,
     "metadata": {},
     "output_type": "execute_result"
    }
   ],
   "source": [
    "PDEpricer.calc_fair_value()"
   ]
  },
  {
   "cell_type": "code",
   "execution_count": 48,
   "id": "32183f6a-ff4c-4300-9493-8cf7c663d37b",
   "metadata": {},
   "outputs": [
    {
     "data": {
      "text/plain": [
       "14.223444387300706"
      ]
     },
     "execution_count": 48,
     "metadata": {},
     "output_type": "execute_result"
    }
   ],
   "source": [
    "PDEpricer.calc_fair_value()"
   ]
  },
  {
   "cell_type": "code",
   "execution_count": 30,
   "id": "5887b9d2-0cd1-47c7-8183-366e18848559",
   "metadata": {},
   "outputs": [
    {
     "data": {
      "text/plain": [
       "19.884721608868233"
      ]
     },
     "execution_count": 30,
     "metadata": {},
     "output_type": "execute_result"
    }
   ],
   "source": [
    "PDEpricer.calc_fair_value()"
   ]
  },
  {
   "cell_type": "code",
   "execution_count": 12,
   "id": "2be36317",
   "metadata": {},
   "outputs": [
    {
     "data": {
      "text/plain": [
       "array([0, 1, 2, 3, 4, 5, 6, 7, 8, 9])"
      ]
     },
     "execution_count": 12,
     "metadata": {},
     "output_type": "execute_result"
    }
   ],
   "source": [
    "np.arange(10)"
   ]
  },
  {
   "cell_type": "code",
   "execution_count": 13,
   "id": "9a0829ab-ef1d-4606-a71b-436acb09ca4d",
   "metadata": {},
   "outputs": [
    {
     "data": {
      "text/plain": [
       "0.0"
      ]
     },
     "execution_count": 13,
     "metadata": {},
     "output_type": "execute_result"
    }
   ],
   "source": [
    "np.zeros(10-1)[1]"
   ]
  },
  {
   "cell_type": "code",
   "execution_count": 17,
   "id": "39496ffe-544e-4a06-9dbe-fa94a5b53abb",
   "metadata": {},
   "outputs": [
    {
     "data": {
      "text/plain": [
       "array([[105.        ,   0.        ,   0.        , ...,   0.        ,\n",
       "          0.        , -90.36679533],\n",
       "       [  0.        ,   0.        ,   0.        , ...,   0.        ,\n",
       "          0.        , -90.41199002],\n",
       "       [  0.        ,   0.        ,   0.        , ...,   0.        ,\n",
       "          0.        , -90.45720732],\n",
       "       ...,\n",
       "       [  0.        ,   0.        ,   0.        , ...,   0.        ,\n",
       "          0.        , -94.90504748],\n",
       "       [  0.        ,   0.        ,   0.        , ...,   0.        ,\n",
       "          0.        , -94.95251187],\n",
       "       [  0.        ,   0.        ,   0.        , ...,   0.        ,\n",
       "          0.        , -95.        ]])"
      ]
     },
     "execution_count": 17,
     "metadata": {},
     "output_type": "execute_result"
    }
   ],
   "source": [
    "PDEpricer.grid"
   ]
  },
  {
   "cell_type": "code",
   "execution_count": 14,
   "id": "f6a08b88-fb92-45ca-80a2-fe0706c5473e",
   "metadata": {},
   "outputs": [
    {
     "data": {
      "text/plain": [
       "0.0"
      ]
     },
     "execution_count": 14,
     "metadata": {},
     "output_type": "execute_result"
    }
   ],
   "source": [
    "import numpy as np\n",
    "(np.floor(0.50))"
   ]
  },
  {
   "cell_type": "code",
   "execution_count": 29,
   "id": "48ef426a-f6d6-4ed4-a05f-500165d92f25",
   "metadata": {},
   "outputs": [
    {
     "data": {
      "text/plain": [
       "400"
      ]
     },
     "execution_count": 29,
     "metadata": {},
     "output_type": "execute_result"
    }
   ],
   "source": [
    "(PDEpricer._bsPDE.ns_steps)"
   ]
  },
  {
   "cell_type": "code",
   "execution_count": 13,
   "id": "9b8d05e9-e4fb-4966-8397-aab602037c3b",
   "metadata": {},
   "outputs": [
    {
     "data": {
      "text/plain": [
       "100"
      ]
     },
     "execution_count": 13,
     "metadata": {},
     "output_type": "execute_result"
    }
   ],
   "source": [
    "PDEpricer.nt_steps"
   ]
  },
  {
   "cell_type": "code",
   "execution_count": 14,
   "id": "bd43ea7f-49b3-4523-8bf2-65de2e5e177f",
   "metadata": {},
   "outputs": [
    {
     "data": {
      "text/plain": [
       "400"
      ]
     },
     "execution_count": 14,
     "metadata": {},
     "output_type": "execute_result"
    }
   ],
   "source": [
    "PDEpricer.ns_steps"
   ]
  },
  {
   "cell_type": "code",
   "execution_count": 15,
   "id": "b6d71b5b-853f-4463-99b1-ab52a0b938b9",
   "metadata": {},
   "outputs": [
    {
     "data": {
      "text/plain": [
       "101"
      ]
     },
     "execution_count": 15,
     "metadata": {},
     "output_type": "execute_result"
    }
   ],
   "source": [
    "len(PDEpricer._bsPDE.grid)"
   ]
  },
  {
   "cell_type": "code",
   "execution_count": 17,
   "id": "bd3104ff-f840-46d1-9df8-5c057645c6e6",
   "metadata": {},
   "outputs": [],
   "source": [
    "bs = BlackScholesPDE(model, params)"
   ]
  },
  {
   "cell_type": "code",
   "execution_count": 19,
   "id": "b8209780-8b0d-4d57-b19b-77049693500c",
   "metadata": {},
   "outputs": [
    {
     "data": {
      "text/plain": [
       "101"
      ]
     },
     "execution_count": 19,
     "metadata": {},
     "output_type": "execute_result"
    }
   ],
   "source": [
    "len(bs.grid)"
   ]
  },
  {
   "cell_type": "code",
   "execution_count": 24,
   "id": "7245e717-c1b0-4d29-8e79-4d92605f68a3",
   "metadata": {},
   "outputs": [],
   "source": [
    "P, Q, R = bs.tridiagonal_matrix()"
   ]
  },
  {
   "cell_type": "code",
   "execution_count": 27,
   "id": "1ca780fe-3c3e-4579-be17-fd68ecee4fd2",
   "metadata": {},
   "outputs": [
    {
     "data": {
      "text/plain": [
       "399"
      ]
     },
     "execution_count": 27,
     "metadata": {},
     "output_type": "execute_result"
    }
   ],
   "source": [
    "len(R)"
   ]
  },
  {
   "cell_type": "code",
   "execution_count": 23,
   "id": "558c480f-6c5e-434f-9641-88ecfacb2298",
   "metadata": {},
   "outputs": [
    {
     "ename": "ValueError",
     "evalue": "shapes (399,399) and (401,) not aligned: 399 (dim 1) != 401 (dim 0)",
     "output_type": "error",
     "traceback": [
      "\u001b[1;31m---------------------------------------------------------------------------\u001b[0m",
      "\u001b[1;31mValueError\u001b[0m                                Traceback (most recent call last)",
      "Cell \u001b[1;32mIn[23], line 1\u001b[0m\n\u001b[1;32m----> 1\u001b[0m \u001b[43mbs\u001b[49m\u001b[38;5;241;43m.\u001b[39;49m\u001b[43mimplicit_method\u001b[49m\u001b[43m(\u001b[49m\u001b[43m)\u001b[49m\n",
      "File \u001b[1;32mC:\\git\\BSPDE\\Lectures\\BSPDE\\..\\..\\src\\numerical_method.py:238\u001b[0m, in \u001b[0;36mBlackScholesPDE.implicit_method\u001b[1;34m(self)\u001b[0m\n\u001b[0;32m    236\u001b[0m \u001b[38;5;28mself\u001b[39m\u001b[38;5;241m.\u001b[39msetup_boundary_conditions()\n\u001b[0;32m    237\u001b[0m \u001b[38;5;28;01mfor\u001b[39;00m j \u001b[38;5;129;01min\u001b[39;00m \u001b[38;5;28mrange\u001b[39m(\u001b[38;5;28mself\u001b[39m\u001b[38;5;241m.\u001b[39mnt_steps, \u001b[38;5;241m0\u001b[39m, \u001b[38;5;241m-\u001b[39m\u001b[38;5;241m1\u001b[39m):\n\u001b[1;32m--> 238\u001b[0m     \u001b[38;5;28mself\u001b[39m\u001b[38;5;241m.\u001b[39mgrid[j \u001b[38;5;241m-\u001b[39m \u001b[38;5;241m1\u001b[39m, :] \u001b[38;5;241m=\u001b[39m np\u001b[38;5;241m.\u001b[39mlinalg\u001b[38;5;241m.\u001b[39msolve(\u001b[38;5;28mself\u001b[39m\u001b[38;5;241m.\u001b[39mP, \u001b[43mnp\u001b[49m\u001b[38;5;241;43m.\u001b[39;49m\u001b[43mdot\u001b[49m\u001b[43m(\u001b[49m\u001b[38;5;28;43mself\u001b[39;49m\u001b[38;5;241;43m.\u001b[39;49m\u001b[43mQ\u001b[49m\u001b[43m,\u001b[49m\u001b[43m \u001b[49m\u001b[38;5;28;43mself\u001b[39;49m\u001b[38;5;241;43m.\u001b[39;49m\u001b[43mgrid\u001b[49m\u001b[43m[\u001b[49m\u001b[43mj\u001b[49m\u001b[43m,\u001b[49m\u001b[43m \u001b[49m\u001b[43m:\u001b[49m\u001b[43m]\u001b[49m\u001b[43m)\u001b[49m)\n",
      "\u001b[1;31mValueError\u001b[0m: shapes (399,399) and (401,) not aligned: 399 (dim 1) != 401 (dim 0)"
     ]
    }
   ],
   "source": [
    "bs.implicit_method()"
   ]
  },
  {
   "cell_type": "code",
   "execution_count": null,
   "id": "7c9a2677-9a1c-41db-816e-1899283a76dd",
   "metadata": {},
   "outputs": [],
   "source": [
    "np.dot(R, grid[j, :])"
   ]
  },
  {
   "cell_type": "code",
   "execution_count": null,
   "id": "4cc71320-f2d9-4de7-a4ba-7990492aca4e",
   "metadata": {},
   "outputs": [],
   "source": []
  },
  {
   "cell_type": "code",
   "execution_count": 22,
   "id": "586d66ff-627b-49a5-afba-2b653ea076d4",
   "metadata": {},
   "outputs": [
    {
     "data": {
      "text/plain": [
       "array([[ 1.05000000e+002,  1.04500000e+002,  1.04000000e+002, ...,\n",
       "         0.00000000e+000,  0.00000000e+000, -9.03667953e+001],\n",
       "       [ 0.00000000e+000,  1.04447500e+002,  1.03947500e+002, ...,\n",
       "         0.00000000e+000, -1.54232557e+003, -9.04119900e+001],\n",
       "       [ 0.00000000e+000,  1.04410078e+002,  1.03895026e+002, ...,\n",
       "        -2.61920787e+004,  4.92546068e+004, -9.04572073e+001],\n",
       "       ...,\n",
       "       [ 0.00000000e+000,  1.00855151e+002,  9.89730318e+001, ...,\n",
       "        -1.41820418e+177,  7.64448089e+176, -9.49050475e+001],\n",
       "       [ 0.00000000e+000,  1.00818517e+002,  9.89229478e+001, ...,\n",
       "         9.10988129e+178, -4.90998137e+178, -9.49525119e+001],\n",
       "       [ 0.00000000e+000,  1.00781891e+002,  9.88728880e+001, ...,\n",
       "        -5.85201783e+180,  3.15378591e+180, -9.50000000e+001]])"
      ]
     },
     "execution_count": 22,
     "metadata": {},
     "output_type": "execute_result"
    }
   ],
   "source": [
    "bs.grid"
   ]
  },
  {
   "cell_type": "code",
   "execution_count": null,
   "id": "78a5e324-c3eb-4d20-99f3-ce02db1a2659",
   "metadata": {},
   "outputs": [],
   "source": []
  },
  {
   "cell_type": "markdown",
   "id": "945f1381-4496-4939-b26d-4faf33b4602c",
   "metadata": {
    "slideshow": {
     "slide_type": "slide"
    }
   },
   "source": [
    "<img src=\"lesson_pages/1.png\">"
   ]
  },
  {
   "cell_type": "markdown",
   "id": "35abbc72-e599-405c-acf6-cebd614d5a71",
   "metadata": {
    "slideshow": {
     "slide_type": "slide"
    }
   },
   "source": [
    "<img src=\"lesson_pages/2.png\">"
   ]
  },
  {
   "cell_type": "markdown",
   "id": "8243049c-1fc9-4e07-943d-3e159de1ad9f",
   "metadata": {},
   "source": [
    "<img src=\"lesson_pages/3.png\">"
   ]
  },
  {
   "cell_type": "markdown",
   "id": "a80c48d1-3001-44ba-9d53-a10794a6eb3f",
   "metadata": {},
   "source": [
    "<img src=\"lesson_pages/4.png\">"
   ]
  },
  {
   "cell_type": "markdown",
   "id": "40711a25-9a4f-4b70-8d08-9626f17a4d05",
   "metadata": {},
   "source": [
    "<img src=\"lesson_pages/5.png\">"
   ]
  },
  {
   "cell_type": "markdown",
   "id": "96c64362-2071-4ae9-9ecd-f77a48f3e02f",
   "metadata": {},
   "source": [
    "# EXAMPLE WITH EXPLICIT METHOD"
   ]
  },
  {
   "cell_type": "code",
   "execution_count": 10,
   "id": "455d1d41-0fc9-4789-820f-773de2b32e3f",
   "metadata": {},
   "outputs": [],
   "source": [
    "# Create European Contract\n",
    "# Create Market Model\n",
    "# Create PDEParams\n",
    "# Create GenericPDEPricer\n",
    "# Calculate FV and Greeks based on Explicit method\n",
    "# Visualize the Call and Put prices in 2D and 3D"
   ]
  },
  {
   "cell_type": "markdown",
   "id": "81e02891-8df6-4e54-84dd-292cd7d3096a",
   "metadata": {},
   "source": [
    "<img src=\"lesson_pages/6.png\">"
   ]
  },
  {
   "cell_type": "markdown",
   "id": "93fe4e15-0385-4531-8e33-20a0f8c33f5a",
   "metadata": {},
   "source": [
    "<img src=\"lesson_pages/7.png\">"
   ]
  },
  {
   "cell_type": "markdown",
   "id": "d40dc689-12b5-4d0c-be37-1d2d7ae42c3f",
   "metadata": {},
   "source": [
    "<img src=\"lesson_pages/7.png\">"
   ]
  },
  {
   "cell_type": "markdown",
   "id": "01c1d758-ad4e-44cb-96f3-2d43ce005be9",
   "metadata": {},
   "source": [
    "<img src=\"lesson_pages/8.png\">"
   ]
  },
  {
   "cell_type": "markdown",
   "id": "97028202-7104-48eb-bd7a-3fdbb85875a6",
   "metadata": {},
   "source": [
    "# EXAMPLE WITH IMPLICIT METHOD"
   ]
  },
  {
   "cell_type": "code",
   "execution_count": 8,
   "id": "02b0c11f-5d91-4a0c-be24-a48d73bc1d8e",
   "metadata": {},
   "outputs": [],
   "source": [
    "# Create European Contract\n",
    "# Create Market Model\n",
    "# Create PDEParams\n",
    "# Create GenericPDEPricer\n",
    "# Calculate FV and Greeks based on Implicit method\n",
    "# Visualize the Call and Put prices in 2D and 3D"
   ]
  },
  {
   "cell_type": "markdown",
   "id": "c6d4b9b2-e550-4fea-8e1f-82124fbd6097",
   "metadata": {},
   "source": [
    "<img src=\"lesson_pages/9.png\">"
   ]
  },
  {
   "cell_type": "markdown",
   "id": "b2a73a1f-b2f9-44e8-b299-a68ec3d318ca",
   "metadata": {},
   "source": [
    "<img src=\"lesson_pages/10.png\">"
   ]
  },
  {
   "cell_type": "markdown",
   "id": "f587d6c1-61b8-4444-ae35-6f92a7fc1609",
   "metadata": {},
   "source": [
    "<img src=\"lesson_pages/11.png\">"
   ]
  },
  {
   "cell_type": "markdown",
   "id": "ecbba509-0dd5-40df-828a-ab35f4d4ee56",
   "metadata": {},
   "source": [
    "# EXAMPLE WITH CRANK NICOLSON METHOD"
   ]
  },
  {
   "cell_type": "code",
   "execution_count": 7,
   "id": "0d2738cb-30a2-43e2-9a78-1b0897cf62bd",
   "metadata": {},
   "outputs": [],
   "source": [
    "# Create European Contract\n",
    "# Create Market Model\n",
    "# Create PDEParams\n",
    "# Create GenericPDEPricer\n",
    "# Calculate FV and Greeks based on Crank_Nicolson methods\n",
    "# Visualize the Call and Put prices in 2D and 3D"
   ]
  },
  {
   "cell_type": "markdown",
   "id": "5413989b-a40a-4edd-8ca2-129234a66757",
   "metadata": {},
   "source": [
    "# COMPARE PRICE AND GREEKS WITH EUROPEAN ANALYTICAL PRICER"
   ]
  },
  {
   "cell_type": "code",
   "execution_count": null,
   "id": "75f2407e-37dd-4a9d-9397-5fbf575192ab",
   "metadata": {},
   "outputs": [],
   "source": []
  }
 ],
 "metadata": {
  "kernelspec": {
   "display_name": "Python 3 (ipykernel)",
   "language": "python",
   "name": "python3"
  },
  "language_info": {
   "codemirror_mode": {
    "name": "ipython",
    "version": 3
   },
   "file_extension": ".py",
   "mimetype": "text/x-python",
   "name": "python",
   "nbconvert_exporter": "python",
   "pygments_lexer": "ipython3",
   "version": "3.9.17"
  }
 },
 "nbformat": 4,
 "nbformat_minor": 5
}
