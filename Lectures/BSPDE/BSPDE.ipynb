{
 "cells": [
  {
   "cell_type": "code",
   "execution_count": 1,
   "id": "89994ab2-7a16-4f75-9bb7-bc69b2b05565",
   "metadata": {},
   "outputs": [],
   "source": [
    "import os \n",
    "import sys"
   ]
  },
  {
   "cell_type": "code",
   "execution_count": 2,
   "id": "9f5da92c-9248-4d56-97e3-9aa94c4f242b",
   "metadata": {},
   "outputs": [],
   "source": [
    "sys.path.append(\"..\\..\")"
   ]
  },
  {
   "cell_type": "code",
   "execution_count": 3,
   "id": "9b01d927",
   "metadata": {
    "slideshow": {
     "slide_type": "-"
    }
   },
   "outputs": [],
   "source": [
    "from src.market_data import *"
   ]
  },
  {
   "cell_type": "code",
   "execution_count": 4,
   "id": "860295a5",
   "metadata": {
    "slideshow": {
     "slide_type": "slide"
    }
   },
   "outputs": [],
   "source": [
    "MarketData.initialize()"
   ]
  },
  {
   "cell_type": "code",
   "execution_count": 5,
   "id": "0cb1199a-d67c-4c2d-9d23-5db81dc41fa0",
   "metadata": {},
   "outputs": [],
   "source": [
    "# MarketData.get_vol_grid()[Stock.EXAMPLE1].get_vol(1.0,1.0)"
   ]
  },
  {
   "cell_type": "code",
   "execution_count": 6,
   "id": "50615667-c751-46b5-97a7-15ef59f8a215",
   "metadata": {},
   "outputs": [
    {
     "data": {
      "text/plain": [
       "<Stock.EXAMPLE1: 'EXAMPLE1'>"
      ]
     },
     "execution_count": 6,
     "metadata": {},
     "output_type": "execute_result"
    }
   ],
   "source": [
    "Stock.EXAMPLE1"
   ]
  },
  {
   "cell_type": "code",
   "execution_count": 7,
   "id": "dbe37b75-1957-4a2b-afd9-db8358cae72a",
   "metadata": {},
   "outputs": [],
   "source": [
    "from src.pricer import *"
   ]
  },
  {
   "cell_type": "code",
   "execution_count": 24,
   "id": "97f3a89d-1d38-45ab-aec6-32a4c6ca3b4f",
   "metadata": {},
   "outputs": [],
   "source": [
    "model = FlatVolModel(Stock.EXAMPLE1)\n",
    "expiry = 1.0\n",
    "strike = 105\n",
    "contract = EuropeanContract(Stock.EXAMPLE1, PutCallFwd.PUT, LongShort.LONG, strike, expiry)"
   ]
  },
  {
   "cell_type": "code",
   "execution_count": 34,
   "id": "46c13a57-7355-4434-8078-1474f36e2fc4",
   "metadata": {},
   "outputs": [],
   "source": [
    "params = PDEParams(expiry, strike, PutCallFwd.PUT, 0.5, 0.01, 0,200, \"explicit\")"
   ]
  },
  {
   "cell_type": "code",
   "execution_count": 35,
   "id": "83554e12-7562-4470-8891-b28fe03e199a",
   "metadata": {},
   "outputs": [],
   "source": [
    "PDEpricer = GenericPDEPricer(contract, model, params)"
   ]
  },
  {
   "cell_type": "code",
   "execution_count": 36,
   "id": "e3b017a3-d384-43d4-b619-99f0603e5575",
   "metadata": {},
   "outputs": [
    {
     "data": {
      "text/plain": [
       "<PutCallFwd.PUT: 'PUT'>"
      ]
     },
     "execution_count": 36,
     "metadata": {},
     "output_type": "execute_result"
    }
   ],
   "source": [
    "PDEpricer._bsPDE._derivative_type"
   ]
  },
  {
   "cell_type": "code",
   "execution_count": 37,
   "id": "6470d5df-9d59-42d8-9185-78189947f7fa",
   "metadata": {},
   "outputs": [
    {
     "data": {
      "text/plain": [
       "4.447500000000005"
      ]
     },
     "execution_count": 37,
     "metadata": {},
     "output_type": "execute_result"
    }
   ],
   "source": [
    "PDEpricer.calc_fair_value()"
   ]
  },
  {
   "cell_type": "code",
   "execution_count": 14,
   "id": "f6a08b88-fb92-45ca-80a2-fe0706c5473e",
   "metadata": {},
   "outputs": [
    {
     "data": {
      "text/plain": [
       "0.0"
      ]
     },
     "execution_count": 14,
     "metadata": {},
     "output_type": "execute_result"
    }
   ],
   "source": [
    "import numpy as np\n",
    "(np.floor(0.50))"
   ]
  },
  {
   "cell_type": "code",
   "execution_count": 14,
   "id": "48ef426a-f6d6-4ed4-a05f-500165d92f25",
   "metadata": {},
   "outputs": [
    {
     "data": {
      "text/plain": [
       "int"
      ]
     },
     "execution_count": 14,
     "metadata": {},
     "output_type": "execute_result"
    }
   ],
   "source": [
    "type(a)"
   ]
  },
  {
   "cell_type": "code",
   "execution_count": 20,
   "id": "b6d71b5b-853f-4463-99b1-ab52a0b938b9",
   "metadata": {},
   "outputs": [
    {
     "data": {
      "text/plain": [
       "array([[0.00000000e+00, 0.00000000e+00, 0.00000000e+00, ...,\n",
       "        8.50000000e+01, 9.50000000e+01, 9.50079289e+01],\n",
       "       [0.00000000e+00, 0.00000000e+00, 0.00000000e+00, ...,\n",
       "        8.50950000e+01, 9.36083972e+01, 9.51029843e+01],\n",
       "       [0.00000000e+00, 0.00000000e+00, 0.00000000e+00, ...,\n",
       "        8.49906955e+01, 9.26322972e+01, 9.51981349e+01],\n",
       "       ...,\n",
       "       [0.00000000e+00, 7.94524473e-07, 7.67664727e-05, ...,\n",
       "        8.69277415e+01, 9.57864897e+01, 1.04790210e+02],\n",
       "       [0.00000000e+00, 8.61117560e-07, 8.21803279e-05, ...,\n",
       "        8.70117683e+01, 9.58805881e+01, 1.04895052e+02],\n",
       "       [0.00000000e+00, 9.32388328e-07, 8.79018161e-05, ...,\n",
       "        8.70960797e+01, 9.59748838e+01, 1.05000000e+02]])"
      ]
     },
     "execution_count": 20,
     "metadata": {},
     "output_type": "execute_result"
    }
   ],
   "source": [
    "PDEpricer.grid"
   ]
  },
  {
   "cell_type": "markdown",
   "id": "945f1381-4496-4939-b26d-4faf33b4602c",
   "metadata": {
    "slideshow": {
     "slide_type": "slide"
    }
   },
   "source": [
    "<img src=\"lesson_pages/1.png\">"
   ]
  },
  {
   "cell_type": "markdown",
   "id": "35abbc72-e599-405c-acf6-cebd614d5a71",
   "metadata": {
    "slideshow": {
     "slide_type": "slide"
    }
   },
   "source": [
    "<img src=\"lesson_pages/2.png\">"
   ]
  },
  {
   "cell_type": "markdown",
   "id": "8243049c-1fc9-4e07-943d-3e159de1ad9f",
   "metadata": {},
   "source": [
    "<img src=\"lesson_pages/3.png\">"
   ]
  },
  {
   "cell_type": "markdown",
   "id": "a80c48d1-3001-44ba-9d53-a10794a6eb3f",
   "metadata": {},
   "source": [
    "<img src=\"lesson_pages/4.png\">"
   ]
  },
  {
   "cell_type": "markdown",
   "id": "40711a25-9a4f-4b70-8d08-9626f17a4d05",
   "metadata": {},
   "source": [
    "<img src=\"lesson_pages/5.png\">"
   ]
  },
  {
   "cell_type": "markdown",
   "id": "96c64362-2071-4ae9-9ecd-f77a48f3e02f",
   "metadata": {},
   "source": [
    "# EXAMPLE WITH EXPLICIT METHOD"
   ]
  },
  {
   "cell_type": "code",
   "execution_count": 10,
   "id": "455d1d41-0fc9-4789-820f-773de2b32e3f",
   "metadata": {},
   "outputs": [],
   "source": [
    "# Create European Contract\n",
    "# Create Market Model\n",
    "# Create PDEParams\n",
    "# Create GenericPDEPricer\n",
    "# Calculate FV and Greeks based on Explicit method\n",
    "# Visualize the Call and Put prices in 2D and 3D"
   ]
  },
  {
   "cell_type": "markdown",
   "id": "81e02891-8df6-4e54-84dd-292cd7d3096a",
   "metadata": {},
   "source": [
    "<img src=\"lesson_pages/6.png\">"
   ]
  },
  {
   "cell_type": "markdown",
   "id": "93fe4e15-0385-4531-8e33-20a0f8c33f5a",
   "metadata": {},
   "source": [
    "<img src=\"lesson_pages/7.png\">"
   ]
  },
  {
   "cell_type": "markdown",
   "id": "d40dc689-12b5-4d0c-be37-1d2d7ae42c3f",
   "metadata": {},
   "source": [
    "<img src=\"lesson_pages/7.png\">"
   ]
  },
  {
   "cell_type": "markdown",
   "id": "01c1d758-ad4e-44cb-96f3-2d43ce005be9",
   "metadata": {},
   "source": [
    "<img src=\"lesson_pages/8.png\">"
   ]
  },
  {
   "cell_type": "markdown",
   "id": "97028202-7104-48eb-bd7a-3fdbb85875a6",
   "metadata": {},
   "source": [
    "# EXAMPLE WITH IMPLICIT METHOD"
   ]
  },
  {
   "cell_type": "code",
   "execution_count": 8,
   "id": "02b0c11f-5d91-4a0c-be24-a48d73bc1d8e",
   "metadata": {},
   "outputs": [],
   "source": [
    "# Create European Contract\n",
    "# Create Market Model\n",
    "# Create PDEParams\n",
    "# Create GenericPDEPricer\n",
    "# Calculate FV and Greeks based on Implicit method\n",
    "# Visualize the Call and Put prices in 2D and 3D"
   ]
  },
  {
   "cell_type": "markdown",
   "id": "c6d4b9b2-e550-4fea-8e1f-82124fbd6097",
   "metadata": {},
   "source": [
    "<img src=\"lesson_pages/9.png\">"
   ]
  },
  {
   "cell_type": "markdown",
   "id": "b2a73a1f-b2f9-44e8-b299-a68ec3d318ca",
   "metadata": {},
   "source": [
    "<img src=\"lesson_pages/10.png\">"
   ]
  },
  {
   "cell_type": "markdown",
   "id": "f587d6c1-61b8-4444-ae35-6f92a7fc1609",
   "metadata": {},
   "source": [
    "<img src=\"lesson_pages/11.png\">"
   ]
  },
  {
   "cell_type": "markdown",
   "id": "ecbba509-0dd5-40df-828a-ab35f4d4ee56",
   "metadata": {},
   "source": [
    "# EXAMPLE WITH CRANK NICOLSON METHOD"
   ]
  },
  {
   "cell_type": "code",
   "execution_count": 7,
   "id": "0d2738cb-30a2-43e2-9a78-1b0897cf62bd",
   "metadata": {},
   "outputs": [],
   "source": [
    "# Create European Contract\n",
    "# Create Market Model\n",
    "# Create PDEParams\n",
    "# Create GenericPDEPricer\n",
    "# Calculate FV and Greeks based on Crank_Nicolson methods\n",
    "# Visualize the Call and Put prices in 2D and 3D"
   ]
  },
  {
   "cell_type": "markdown",
   "id": "5413989b-a40a-4edd-8ca2-129234a66757",
   "metadata": {},
   "source": [
    "# COMPARE PRICE AND GREEKS WITH EUROPEAN ANALYTICAL PRICER"
   ]
  },
  {
   "cell_type": "code",
   "execution_count": null,
   "id": "75f2407e-37dd-4a9d-9397-5fbf575192ab",
   "metadata": {},
   "outputs": [],
   "source": []
  }
 ],
 "metadata": {
  "kernelspec": {
   "display_name": "Python 3 (ipykernel)",
   "language": "python",
   "name": "python3"
  },
  "language_info": {
   "codemirror_mode": {
    "name": "ipython",
    "version": 3
   },
   "file_extension": ".py",
   "mimetype": "text/x-python",
   "name": "python",
   "nbconvert_exporter": "python",
   "pygments_lexer": "ipython3",
   "version": "3.9.17"
  }
 },
 "nbformat": 4,
 "nbformat_minor": 5
}
