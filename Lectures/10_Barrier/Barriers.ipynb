{
 "cells": [
  {
   "cell_type": "code",
   "execution_count": 1,
   "id": "1622a2ef",
   "metadata": {},
   "outputs": [],
   "source": [
    "import sys\n",
    "from pathlib import Path\n",
    "import numpy as np\n",
    "import matplotlib.pyplot as plt\n",
    "\n",
    "current = Path().resolve()\n",
    "sys.path.append(str(current))\n",
    "sys.path.append(str(current.parents[1]))\n",
    "\n",
    "from src.enums import *\n",
    "from src.utils import *\n",
    "from src.market_data import *\n",
    "from src.pricer import *\n",
    "# # Make charts interactive\n",
    "# %matplotlib notebook\n",
    "\n",
    "# Initialize market data\n",
    "MarketData.initialize()"
   ]
  },
  {
   "cell_type": "markdown",
   "id": "c5ac3ff5",
   "metadata": {
    "slideshow": {
     "slide_type": "subslide"
    }
   },
   "source": [
    "<h4><center> Introduction to building a quant pricing library practice\n",
    " </center></h4>\n",
    "\n",
    "<h1><center> Pricing Barrier Options </center></h1>\n",
    "\n",
    "<h4><center>\n",
    "<h3><center> Varga László </center></h3> <br /> \n",
    "</center></h4>\n",
    "     \n",
    "<h4><center> <a href=\"mailto:vargala4@gmail.com\">vargala4@gmail.com</a>  </center></h4>    "
   ]
  },
  {
   "cell_type": "markdown",
   "id": "b02288de",
   "metadata": {
    "slideshow": {
     "slide_type": "slide"
    }
   },
   "source": [
    "<h3><center> Introduction - Barrier options </center></h3>\n",
    "\n",
    "- Derivative which payoff depends on whether the underlier's price has reached a pre-determined barrier value\n",
    "- Payoff is path-dependent\n",
    "- Exercise is usually European style\n",
    "\n",
    "\n",
    "\n"
   ]
  },
  {
   "cell_type": "markdown",
   "id": "71f84b26",
   "metadata": {
    "slideshow": {
     "slide_type": "fragment"
    }
   },
   "source": [
    "- Advantages:\n",
    "    - A wisely chosen barrier option may provide additional protection, therefore they are very popolar tools for hedging\n",
    "    - Barrier option prices are smaller than the prices of the respective vanilla options\n"
   ]
  },
  {
   "cell_type": "markdown",
   "id": "49658e00",
   "metadata": {
    "slideshow": {
     "slide_type": "slide"
    }
   },
   "source": [
    "<h3><center> Mathematical notations </center></h3>\n",
    "\n",
    "- $(S_t)_{t\\in [0,T]}$: asset price process, usually the GBM process with parameters $r$ and $\\sigma$\n",
    "- $T$: exercise date\n",
    "- $K$: strike\n",
    "- $\\{ t_1,\\ldots,t_n \\}$: monitoring dates, $0\\leq t_1 \\leq \\ldots \\leq t_n \\leq T$ \n",
    "- $B$: barrier level\n",
    "- $x_+=max(x,0)$: positive value of $x$\n",
    "- $I(\\cdot)$: indicator function"
   ]
  },
  {
   "cell_type": "markdown",
   "id": "0ec24085",
   "metadata": {
    "slideshow": {
     "slide_type": "subslide"
    }
   },
   "source": [
    "<h3><center> Types of barrier options </center></h3>\n",
    "\n",
    "- Call or Put\n",
    "- Knock-in or knock-out\n",
    "    - knock-in: the option becomes active if the barrier is breached\n",
    "    - knock-out: the option becomes active if the barrier is not breached\n",
    "- **Single** (upper or lower) or double (upper and lower) barrier\n",
    "- Continuously or discretely monitored\n",
    "    - continuously: the breach is considered in every point in interval $[0,T]$\n",
    "    - discretely: the breach is checked only in a finite number of time points (monitoring points). Daily monitoring contract is the most common.\n",
    "    \n"
   ]
  },
  {
   "cell_type": "markdown",
   "id": "f40b36da",
   "metadata": {
    "slideshow": {
     "slide_type": "subslide"
    }
   },
   "source": [
    "<h3><center> Types of single barrier options - combinations </center></h3>\n",
    "\n",
    "- Combinations: D/U & I/O & C/P  $\\longrightarrow$ 8 combinations\n",
    "    - D/U: down or up (lower or upper barrier)\n",
    "    - I/O: knock-in or knock-out\n",
    "    - C/P: call or put\n",
    "- For example DIC barrier option denotes a down-and-in call barrier option\n",
    "- Pricing formulas are different in cases $B\\leq K$ and $B \\geq K$ $\\Longrightarrow$ 16 different analytic pricing formulas in case of continuous monitoring and GBM market conditions\n",
    "    \n"
   ]
  },
  {
   "cell_type": "markdown",
   "id": "41272a81",
   "metadata": {
    "slideshow": {
     "slide_type": "subslide"
    }
   },
   "source": [
    "<h3><center> Payoff of barrier options </center></h3>\n",
    "\n",
    "- Down-and-in call (DIC) option: $ I\\left(\\exists t\\in [0,T]:\\ S_t \\leq B\\right)\\cdot (S_T-K)_+\n",
    "= I\\left(\\underset{t\\in [0,T]}{min}S_t \\leq B\\right)\\cdot (S_T-K)_+$ "
   ]
  },
  {
   "cell_type": "markdown",
   "id": "21ff1f4e",
   "metadata": {
    "slideshow": {
     "slide_type": "fragment"
    }
   },
   "source": [
    "- Down-and-out call (DOC) option: $ I(\\forall t\\in [0,T]:\\ S_t > B)\\cdot (S_T-K)_+= I\\left(\\underset{t\\in [0,T]}{min}S_t > B\\right)\\cdot (S_T-K)_+$  "
   ]
  },
  {
   "cell_type": "markdown",
   "id": "7e1c373a",
   "metadata": {
    "slideshow": {
     "slide_type": "fragment"
    }
   },
   "source": [
    "- In-out parity: $\\quad P_{DIC}+P_{DOC} = P_{European\\ Call}$"
   ]
  },
  {
   "cell_type": "markdown",
   "id": "6a39304c",
   "metadata": {
    "slideshow": {
     "slide_type": "subslide"
    }
   },
   "source": [
    "- Up-and-in call (UIC) option: $ I(\\exists t\\in [0,T]:\\ S_t \\geq B)\\cdot (S_T-K)_+= I\\left(\\underset{t\\in [0,T]}{max}S_t \\geq B\\right)\\cdot (S_T-K)_+$\n",
    "- Up-and-out call (UOC) option: $ I(\\forall t\\in [0,T]:\\ S_t < B)\\cdot (S_T-K)_+= I\\left(\\underset{t\\in [0,T]}{max}S_t < B\\right)\\cdot (S_T-K)_+$\n",
    "- In-out parity: $\\quad P_{UIC}+P_{UOC} = P_{European\\ Call}$"
   ]
  },
  {
   "cell_type": "markdown",
   "id": "f8d6f300",
   "metadata": {
    "slideshow": {
     "slide_type": "subslide"
    }
   },
   "source": [
    "<h3><center> Payoff of barrier options </center></h3>\n",
    "\n",
    "\n",
    "Can we squeeze the payoff of different types of barrier options in one formula?\n"
   ]
  },
  {
   "cell_type": "markdown",
   "id": "a97d0c60",
   "metadata": {
    "slideshow": {
     "slide_type": "fragment"
    }
   },
   "source": [
    "Payoff$ \\ =multiplier \\cdot \\left[\\phi \\cdot (S_T-K)\\right]_+$, where\n",
    "\n",
    "- $\\phi\\ $ is $+1$ if the option is call, and $-1$ if the option is put\n",
    "- $multiplier=I(KI)\\cdot I(breach)+(1-I(KI))\\cdot (1-I(breach))\\quad$\n",
    "    - $I(KI)$: indicator of whether the option is knock-in\n",
    "    - $I(breach)$: indicator of whether the barrier is breached"
   ]
  },
  {
   "cell_type": "markdown",
   "id": "afc9fcda",
   "metadata": {
    "slideshow": {
     "slide_type": "slide"
    }
   },
   "source": [
    "<h3><center> Popular pricing methods of Barrier options </center></h3>\n",
    "\n",
    "|$S_t$ is GBM | Continuous monitoring | Discrete monitoring\n",
    "|:---   |:---| :--- | \n",
    "Yes | Analytic formulas | - Monte Carlo methods, with improvements <br> - PDE methods if there is 1 underlying\n",
    "No | - Discretizing, then Brownian bridges technique <br> with exact breach probabilities  <br> - PDE methods if there is 1 underlying| - Brownian bridges technique <br> with approximate breach probabilites <br> - PDE methods if there is 1 underlying\n"
   ]
  },
  {
   "cell_type": "markdown",
   "id": "b7de4f0d",
   "metadata": {
    "slideshow": {
     "slide_type": "subslide"
    }
   },
   "source": [
    "<h3><center> Risk-free pricing of the UIC option for $t=0$ under continuous monitoring </center></h3>\n",
    "\n",
    "Risk-free pricing formula: $\\small \\quad e^{-rT}E_*\\left[I\\left(\\underset{t\\in [0,T]}{max}S_t \\geq B\\right)\\cdot (S_T-K)_+\\right] $\n",
    "\n"
   ]
  },
  {
   "cell_type": "markdown",
   "id": "9ba7302c",
   "metadata": {
    "slideshow": {
     "slide_type": "fragment"
    }
   },
   "source": [
    "$ \\qquad \\qquad \\qquad = e^{-rT} \\int\\limits_{-\\infty}^{\\infty}\\int\\limits_{-\\infty}^{\\infty} I\\left(x \\geq B\\right)\\cdot (y-K)_+ f_{\\underset{t\\in [0,T]}{max}S_t,S_T}(x,y)\\, dx \\,dy $\n",
    "\n"
   ]
  },
  {
   "cell_type": "markdown",
   "id": "a39f51c2",
   "metadata": {
    "slideshow": {
     "slide_type": "fragment"
    }
   },
   "source": [
    "If $S_t$ is the GBM process, then based on the reflection principle on the Brownian motion, the joint density function will become the following ($\\mu = -\\frac{\\sigma}{2}+\\frac{r}{\\sigma} $):\n",
    "\n",
    "$f_{\\underset{t\\in [0,T]}{max}S_t,S_T}(x,y) = I\\left( x \\geq max(y,0) \\right) \\cdot \\frac{1}{T} \\sqrt{\\frac{2}{\\pi T}}(2x-y)e^{-\\frac{-\\mu^2 T}{2}+\\mu y - \\frac{(2x-y)^2}{2T} } \\qquad $"
   ]
  },
  {
   "cell_type": "markdown",
   "id": "d557aa48",
   "metadata": {
    "slideshow": {
     "slide_type": "subslide"
    }
   },
   "source": [
    "<h3><center> Pricing for $t=0$ under GBM and continuous monitoring </center></h3>\n",
    "\n",
    "- Let us denote by $\\delta^t_{\\pm}(s)=\\frac{1}{\\sigma\\sqrt{t}}\\left( log (s) + \\left( r\\pm \\frac{\\sigma^2}{2} \\right)t \\right)$, $\\quad s>0$\n",
    "- DIC price if $B\\leq K$: $\\quad S_0\\left( \\frac{B}{S_0}\\right)^{1+\\frac{2r}{\\sigma^2}}\\Phi\\left( \\delta^T_+\\left( \\frac{B^2}{KS_0} \\right) \\right)  - \n",
    "e^{-rT} K \\left( \\frac{S_0}{B} \\right)^{1-\\frac{2r}{\\sigma^2}} \\Phi\\left( \\delta^T_-\\left( \\frac{B^2}{KS_0} \\right) \\right) $\n"
   ]
  },
  {
   "cell_type": "markdown",
   "id": "9a9b89b9",
   "metadata": {
    "slideshow": {
     "slide_type": "subslide"
    }
   },
   "source": [
    "<h3><center> Pricing for $t=0$ under GBM and continuous monitoring </center></h3>\n",
    "\n",
    "- Black-Scholes formula: $BS_{call}(S_0, K, T, \\sigma, r) = \n",
    "S_0 \\Phi\\left( \\delta_+^T \\left( \\frac{S_0}{K} \\right) \\right) - K e^{-rT} \\Phi\\left( \\delta_-^T \\left( \\frac{S_0}{K} \\right) \\right)$\n",
    "- Using the B-S formula, the DIC price becomes (if $B\\leq K$): \n",
    "$\\quad S_0\\left( \\frac{B}{S_0}\\right)^{\\frac{2r}{\\sigma^2}} BS_{call}\\left( \\frac{B}{S_0}, \\frac{K}{B}, T, \\sigma, r \\right) $\n",
    "- DOC price if $B\\leq K$: \n",
    "$\\qquad BS_{call}(S_0, K, T, \\sigma, r) - S_0\\left( \\frac{B}{S_0}\\right)^{\\frac{2r}{\\sigma^2}} BS_{call}\\left( \\frac{B}{S_0}, \\frac{K}{B}, T, \\sigma, r \\right) $\n"
   ]
  },
  {
   "cell_type": "markdown",
   "id": "bfd4abe7",
   "metadata": {
    "slideshow": {
     "slide_type": "subslide"
    }
   },
   "source": [
    "<h3><center> Exercises </center></h3>\n",
    "\n",
    "- Showing the Barrier pricer in the codebase and do some pricing exercise.\n",
    "\n",
    "- Convergence of discrete monitoring MC pricer to the analytic continuous monitoring pricer.\n",
    "\n",
    "- Let us simulate a random path and make a graph from it."
   ]
  },
  {
   "cell_type": "code",
   "execution_count": 2,
   "id": "f5844961",
   "metadata": {},
   "outputs": [
    {
     "data": {
      "text/plain": [
       "100.0"
      ]
     },
     "execution_count": 2,
     "metadata": {},
     "output_type": "execute_result"
    }
   ],
   "source": [
    "und = Stock.TEST_COMPANY\n",
    "model = BSVolModel(und)\n",
    "model.spot"
   ]
  },
  {
   "cell_type": "code",
   "execution_count": 3,
   "id": "6b576a58",
   "metadata": {},
   "outputs": [],
   "source": [
    "strike = 100\n",
    "num_mon = 1000\n",
    "barrier = 90\n",
    "up_down = UpDown.DOWN\n",
    "in_out = InOut.IN\n",
    "dtype = PutCallFwd.CALL\n",
    "long_short = LongShort.LONG\n",
    "expiry = 1"
   ]
  },
  {
   "cell_type": "code",
   "execution_count": 4,
   "id": "530aa943",
   "metadata": {},
   "outputs": [],
   "source": [
    "contract = EuropeanBarrierContract(und, dtype, long_short, strike, expiry,\n",
    "                 num_mon, barrier, up_down, in_out)\n",
    "\n",
    "params = Params()"
   ]
  },
  {
   "cell_type": "code",
   "execution_count": 5,
   "id": "f9c9c612",
   "metadata": {},
   "outputs": [
    {
     "data": {
      "text/plain": [
       "4.838479479055546"
      ]
     },
     "execution_count": 5,
     "metadata": {},
     "output_type": "execute_result"
    }
   ],
   "source": [
    "pricer_AN = BarrierAnalyticPricer(contract, model, params)\n",
    "pricer_AN.calc_fair_value()"
   ]
  },
  {
   "cell_type": "code",
   "execution_count": 6,
   "id": "66eb9d0c",
   "metadata": {},
   "outputs": [
    {
     "data": {
      "text/plain": [
       "-0.2855952414752889"
      ]
     },
     "execution_count": 6,
     "metadata": {},
     "output_type": "execute_result"
    }
   ],
   "source": [
    "method = GreekMethod.BUMP\n",
    "pricer_AN.calc_delta(method)"
   ]
  },
  {
   "cell_type": "code",
   "execution_count": 9,
   "id": "9eb0a78e",
   "metadata": {},
   "outputs": [
    {
     "data": {
      "text/plain": [
       "(3.7456098650283365, (1.3586242846760197, 6.132595445380653))"
      ]
     },
     "execution_count": 9,
     "metadata": {},
     "output_type": "execute_result"
    }
   ],
   "source": [
    "params_MC = MCParams(seed = 1, num_of_path = 100, tenor_frequency = 1)\n",
    "pricer_MC = GenericMCPricer(contract, model, params_MC)\n",
    "pricer_MC.calc_fair_value_with_ci()"
   ]
  },
  {
   "cell_type": "code",
   "execution_count": 10,
   "id": "f7aa29ed",
   "metadata": {},
   "outputs": [
    {
     "data": {
      "text/plain": [
       "0.005560245391077245"
      ]
     },
     "execution_count": 10,
     "metadata": {},
     "output_type": "execute_result"
    }
   ],
   "source": [
    "pricer_MC.calc_delta(method)"
   ]
  },
  {
   "cell_type": "code",
   "execution_count": 11,
   "id": "d5747533",
   "metadata": {},
   "outputs": [],
   "source": [
    "method = MCMethodFlatVol(contract, model, params_MC)\n",
    "paths = method.simulate_spot_paths()\n"
   ]
  },
  {
   "cell_type": "code",
   "execution_count": 12,
   "id": "ccd3e8cd",
   "metadata": {},
   "outputs": [
    {
     "data": {
      "text/plain": [
       "(100, 1000)"
      ]
     },
     "execution_count": 12,
     "metadata": {},
     "output_type": "execute_result"
    }
   ],
   "source": [
    "paths.shape"
   ]
  },
  {
   "cell_type": "code",
   "execution_count": 15,
   "id": "37486811",
   "metadata": {},
   "outputs": [
    {
     "data": {
      "text/plain": [
       "array([100.        ,  99.58020406,  99.00859924, ...,  81.09280471,\n",
       "        81.03758459,  81.2012901 ])"
      ]
     },
     "execution_count": 15,
     "metadata": {},
     "output_type": "execute_result"
    }
   ],
   "source": [
    "path = np.concatenate((np.array([model.spot]), paths[2, :]))\n",
    "# path"
   ]
  },
  {
   "cell_type": "code",
   "execution_count": 16,
   "id": "bf77cf3c",
   "metadata": {},
   "outputs": [
    {
     "data": {
      "image/png": "[encoded data removed]",
      "text/plain": [
       "<Figure size 640x480 with 1 Axes>"
      ]
     },
     "metadata": {},
     "output_type": "display_data"
    }
   ],
   "source": [
    "timeline = [0] + contract.get_timeline()\n",
    "timeline_2 = [timeline[50*i] for i in range(int(np.floor(len(timeline)/50)))]\n",
    "path_2 = [path[50*i] for i in range(int(np.floor(len(timeline)/50)))]\n",
    "barrier_timeline = [barrier for i in timeline]\n",
    "\n",
    "plt.figure(0)\n",
    "plt.plot(timeline, path, timeline_2, path_2, 'gs', timeline, barrier_timeline)\n",
    "\n",
    "plt.ylim(min(min(path), barrier), max(max(path), barrier))\n",
    "plt.xlabel('Time')\n",
    "plt.ylabel('Price')\n",
    "plt.show()"
   ]
  },
  {
   "cell_type": "markdown",
   "id": "a13d2fc1",
   "metadata": {
    "slideshow": {
     "slide_type": "slide"
    }
   },
   "source": [
    "<h3><center> Brownian bridge technique </center></h3>\n",
    "\n",
    "- Idea: \n",
    "    - We do not want to generate too long paths because of efficiency/computing reasons, just shorter ones. \n",
    "    - Let us calculate and use the probability that between two observation points the barrier is breached.\n"
   ]
  },
  {
   "cell_type": "markdown",
   "id": "c5e99463",
   "metadata": {
    "slideshow": {
     "slide_type": "fragment"
    }
   },
   "source": [
    "- Tool: (generalized) Brownian bridge: $\\ B_{t, \\ t\\in[t_1,t_2]}=\\left( W_t \\ |\\ W_{t_1}=a, W_{t_2}=b \\right)$"
   ]
  },
  {
   "cell_type": "markdown",
   "id": "a374692a",
   "metadata": {
    "slideshow": {
     "slide_type": "subslide"
    }
   },
   "source": [
    "- Probability that in interval $[t_{i-1}, t_i]$ the price breaches the lower barrier:\n",
    "\n",
    "$\\hspace{15mm} p_i := P\\left( \\underset{t\\in [t_{i-1},t_i]}{min} S_t < B \\ |\\ S_{t_{i-1}}=c, S_{t_i}=d \\right) = \\\\ \\hspace{50mm} =\n",
    "\\begin{cases} exp\\left\\{ -\\frac{2log\\left( \\frac{c}{B}\\right)log\\left( \\frac{d}{B}\\right)}{\\sigma^2(t_i-t_{i-1})} \\right\\} & if \\ B>min(c,d) \\\\ 1 & otherwise\n",
    "\\end{cases}$\n"
   ]
  },
  {
   "cell_type": "markdown",
   "id": "7a4c8c5e",
   "metadata": {
    "slideshow": {
     "slide_type": "fragment"
    }
   },
   "source": [
    "- Probability that in interval $[0, T]$ the price breaches the lower barrier: \n",
    "\n",
    "$\\hspace{60mm} p = 1- \\prod\\limits_{i=1}^n (1-p_i)$"
   ]
  },
  {
   "cell_type": "markdown",
   "id": "ad5b7def",
   "metadata": {
    "slideshow": {
     "slide_type": "fragment"
    }
   },
   "source": [
    "- Where/how can we utilize this probability?"
   ]
  },
  {
   "cell_type": "markdown",
   "id": "0980980c",
   "metadata": {
    "slideshow": {
     "slide_type": "subslide"
    }
   },
   "source": [
    "- We modify the payoff a bit:\n",
    "\n",
    "    Payoff $\\ =multiplier \\cdot \\left[\\phi \\cdot (S_T-K)\\right]_+$, \n",
    "    - where $\\phi$ is $+1$ if the option is call, and $-1$ if the option is put\n",
    "    - $multiplier=I(KI)\\cdot \\color{blue}{p}+(1-I(KI))\\cdot (1-\\color{blue}{p})\\quad$\n",
    "        - $I(KI)$: indicator of whether the option is knock-in\n",
    "        - $\\color{blue}{p}$: probability that the barrier is breached"
   ]
  },
  {
   "cell_type": "markdown",
   "id": "f2f0e4f6",
   "metadata": {
    "slideshow": {
     "slide_type": "fragment"
    }
   },
   "source": [
    "- In case of discrete (typically daily) monitoring the following approximation usually performs well:\n",
    "\n",
    "$\\hspace{40mm} p \\approx max(p_1, \\ldots, p_n)$"
   ]
  },
  {
   "cell_type": "markdown",
   "id": "81ebd847",
   "metadata": {
    "slideshow": {
     "slide_type": "subslide"
    }
   },
   "source": [
    "<h3><center> Exercises </center></h3>\n",
    "\n",
    "- Assess the performance of the Brownian bridge MC pricer, make a comparison with the continuous monitoring pricer.\n",
    "\n"
   ]
  },
  {
   "cell_type": "code",
   "execution_count": null,
   "id": "8b4be01d",
   "metadata": {},
   "outputs": [],
   "source": [
    "pricer_AN.calc_fair_value()\n"
   ]
  },
  {
   "cell_type": "code",
   "execution_count": null,
   "id": "e67a6372",
   "metadata": {},
   "outputs": [],
   "source": [
    "nr_monitoring_points_BB = 100\n",
    "contract_BB = EuropeanBarrierContract(und, dtype, long_short, strike, expiry, \n",
    "                                   nr_monitoring_points_BB, barrier, up_down, in_out)\n",
    "params_MC = MCParams(seed = 1, num_of_path = 10000, tenor_frequency = 1)\n",
    "pricer_BB = BarrierBrownianBridgePricer(contract_BB, model, params_MC)\n",
    "print(pricer_BB.calc_fair_value())"
   ]
  },
  {
   "cell_type": "code",
   "execution_count": null,
   "id": "6b0ca08e",
   "metadata": {},
   "outputs": [],
   "source": [
    "nr_monitoring_points_list = [3, 5, 10, 20, 50, 100]\n",
    "\n",
    "price_AN_list = [pricer_AN.calc_fair_value() for _ in nr_monitoring_points_list]\n",
    "\n",
    "contract_list = [EuropeanBarrierContract(und, dtype, long_short, strike, expiry, \n",
    "                                   nr_monitoring_points, barrier, up_down, in_out)\n",
    "                 for nr_monitoring_points in nr_monitoring_points_list]\n",
    "\n",
    "price_BB_list = [BarrierBrownianBridgePricer(contract, model, params_MC).calc_fair_value() for contract in contract_list]"
   ]
  },
  {
   "cell_type": "code",
   "execution_count": null,
   "id": "7bc14f8d",
   "metadata": {},
   "outputs": [],
   "source": [
    "plt.figure(1)\n",
    "plt.plot(nr_monitoring_points_list, price_AN_list, label=\"Price_Analytic\")\n",
    "plt.plot(nr_monitoring_points_list, [val[0] for val in price_BB_list], label=\"Price_BrownianBridge\")\n",
    "plt.plot(nr_monitoring_points_list, [val[1][0] for val in price_BB_list], ':', color=\"r\", label=\"95% confidence interval\")\n",
    "plt.plot(nr_monitoring_points_list, [val[1][1] for val in price_BB_list], ':', color=\"r\")\n",
    "plt.xlabel('Number of monitoring points')\n",
    "plt.ylabel('Price')\n",
    "plt.legend()\n",
    "plt.show()"
   ]
  },
  {
   "cell_type": "markdown",
   "id": "6268576b",
   "metadata": {},
   "source": [
    "<h3><center> Assignment </center></h3>\n",
    "\n",
    "- Implementat the barrier UIP and UOP pricers. Do a comparison between the analytic and the Brownian bridges technique, create a unit test.\n"
   ]
  },
  {
   "cell_type": "markdown",
   "id": "9419f0a0",
   "metadata": {
    "slideshow": {
     "slide_type": "slide"
    }
   },
   "source": [
    "<h3><center> Conclusions </center></h3>\n",
    "\n",
    "- Basic Monte Carlo pricers are too slow to price barrier options in a front office environment and convergence is slow to the continuous case.\n",
    "- Monte Carlo pricers enhanced with the Brownian bridge technique perform well. "
   ]
  },
  {
   "cell_type": "markdown",
   "id": "d5ec90e2",
   "metadata": {
    "slideshow": {
     "slide_type": "slide"
    }
   },
   "source": [
    "<h3><center> References </center></h3>\n",
    "\n",
    "- N. Privault: Introduction to Stochastic Finance with Market Examples. Chapter 11: Barrier options, Chapman & Hall/CRC, 2022\n",
    "- E. Gobet: Advanced Monte Carlo methods for barrier and related exotic options. Mathematical Modeling and Numerical Methods in Finance, Elsevier, pp.497-528, 2009, *Handbook of Numerical Analysis*\n"
   ]
  }
 ],
 "metadata": {
  "celltoolbar": "Slideshow",
  "kernelspec": {
   "display_name": "Python 3 (ipykernel)",
   "language": "python",
   "name": "python3"
  },
  "language_info": {
   "codemirror_mode": {
    "name": "ipython",
    "version": 3
   },
   "file_extension": ".py",
   "mimetype": "text/x-python",
   "name": "python",
   "nbconvert_exporter": "python",
   "pygments_lexer": "ipython3",
   "version": "3.12.0"
  }
 },
 "nbformat": 4,
 "nbformat_minor": 5
}
